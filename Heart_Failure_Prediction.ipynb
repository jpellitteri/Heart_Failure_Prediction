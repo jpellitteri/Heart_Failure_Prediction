{
 "cells": [
  {
   "cell_type": "code",
   "execution_count": 2,
   "metadata": {},
   "outputs": [],
   "source": [
    "import numpy as np\n",
    "import pandas as pd\n",
    "import matplotlib.pyplot as plt\n",
    "import seaborn as sns\n",
    "from sklearn.preprocessing import StandardScaler, MinMaxScaler\n",
    "from sklearn.ensemble import RandomForestClassifier\n",
    "from sklearn import svm\n",
    "from sklearn.metrics import accuracy_score, confusion_matrix\n",
    "from sklearn.neural_network import MLPClassifier\n",
    "from sklearn import linear_model\n",
    "from sklearn.model_selection import train_test_split"
   ]
  },
  {
   "cell_type": "code",
   "execution_count": 3,
   "metadata": {},
   "outputs": [],
   "source": [
    "df = pd.read_csv(\"C:/Users/Jwpel/Downloads/heart_failure.csv\")"
   ]
  },
  {
   "cell_type": "code",
   "execution_count": 4,
   "metadata": {},
   "outputs": [
    {
     "data": {
      "text/html": [
       "<div>\n",
       "<style scoped>\n",
       "    .dataframe tbody tr th:only-of-type {\n",
       "        vertical-align: middle;\n",
       "    }\n",
       "\n",
       "    .dataframe tbody tr th {\n",
       "        vertical-align: top;\n",
       "    }\n",
       "\n",
       "    .dataframe thead th {\n",
       "        text-align: right;\n",
       "    }\n",
       "</style>\n",
       "<table border=\"1\" class=\"dataframe\">\n",
       "  <thead>\n",
       "    <tr style=\"text-align: right;\">\n",
       "      <th></th>\n",
       "      <th>age</th>\n",
       "      <th>anaemia</th>\n",
       "      <th>creatinine_phosphokinase</th>\n",
       "      <th>diabetes</th>\n",
       "      <th>ejection_fraction</th>\n",
       "      <th>high_blood_pressure</th>\n",
       "      <th>platelets</th>\n",
       "      <th>serum_creatinine</th>\n",
       "      <th>serum_sodium</th>\n",
       "      <th>sex</th>\n",
       "      <th>smoking</th>\n",
       "      <th>time</th>\n",
       "      <th>DEATH_EVENT</th>\n",
       "    </tr>\n",
       "  </thead>\n",
       "  <tbody>\n",
       "    <tr>\n",
       "      <th>0</th>\n",
       "      <td>75.0</td>\n",
       "      <td>0</td>\n",
       "      <td>582</td>\n",
       "      <td>0</td>\n",
       "      <td>20</td>\n",
       "      <td>1</td>\n",
       "      <td>265000.00</td>\n",
       "      <td>1.9</td>\n",
       "      <td>130</td>\n",
       "      <td>1</td>\n",
       "      <td>0</td>\n",
       "      <td>4</td>\n",
       "      <td>1</td>\n",
       "    </tr>\n",
       "    <tr>\n",
       "      <th>1</th>\n",
       "      <td>55.0</td>\n",
       "      <td>0</td>\n",
       "      <td>7861</td>\n",
       "      <td>0</td>\n",
       "      <td>38</td>\n",
       "      <td>0</td>\n",
       "      <td>263358.03</td>\n",
       "      <td>1.1</td>\n",
       "      <td>136</td>\n",
       "      <td>1</td>\n",
       "      <td>0</td>\n",
       "      <td>6</td>\n",
       "      <td>1</td>\n",
       "    </tr>\n",
       "    <tr>\n",
       "      <th>2</th>\n",
       "      <td>65.0</td>\n",
       "      <td>0</td>\n",
       "      <td>146</td>\n",
       "      <td>0</td>\n",
       "      <td>20</td>\n",
       "      <td>0</td>\n",
       "      <td>162000.00</td>\n",
       "      <td>1.3</td>\n",
       "      <td>129</td>\n",
       "      <td>1</td>\n",
       "      <td>1</td>\n",
       "      <td>7</td>\n",
       "      <td>1</td>\n",
       "    </tr>\n",
       "    <tr>\n",
       "      <th>3</th>\n",
       "      <td>50.0</td>\n",
       "      <td>1</td>\n",
       "      <td>111</td>\n",
       "      <td>0</td>\n",
       "      <td>20</td>\n",
       "      <td>0</td>\n",
       "      <td>210000.00</td>\n",
       "      <td>1.9</td>\n",
       "      <td>137</td>\n",
       "      <td>1</td>\n",
       "      <td>0</td>\n",
       "      <td>7</td>\n",
       "      <td>1</td>\n",
       "    </tr>\n",
       "    <tr>\n",
       "      <th>4</th>\n",
       "      <td>65.0</td>\n",
       "      <td>1</td>\n",
       "      <td>160</td>\n",
       "      <td>1</td>\n",
       "      <td>20</td>\n",
       "      <td>0</td>\n",
       "      <td>327000.00</td>\n",
       "      <td>2.7</td>\n",
       "      <td>116</td>\n",
       "      <td>0</td>\n",
       "      <td>0</td>\n",
       "      <td>8</td>\n",
       "      <td>1</td>\n",
       "    </tr>\n",
       "  </tbody>\n",
       "</table>\n",
       "</div>"
      ],
      "text/plain": [
       "    age  anaemia  creatinine_phosphokinase  diabetes  ejection_fraction  \\\n",
       "0  75.0        0                       582         0                 20   \n",
       "1  55.0        0                      7861         0                 38   \n",
       "2  65.0        0                       146         0                 20   \n",
       "3  50.0        1                       111         0                 20   \n",
       "4  65.0        1                       160         1                 20   \n",
       "\n",
       "   high_blood_pressure  platelets  serum_creatinine  serum_sodium  sex  \\\n",
       "0                    1  265000.00               1.9           130    1   \n",
       "1                    0  263358.03               1.1           136    1   \n",
       "2                    0  162000.00               1.3           129    1   \n",
       "3                    0  210000.00               1.9           137    1   \n",
       "4                    0  327000.00               2.7           116    0   \n",
       "\n",
       "   smoking  time  DEATH_EVENT  \n",
       "0        0     4            1  \n",
       "1        0     6            1  \n",
       "2        1     7            1  \n",
       "3        0     7            1  \n",
       "4        0     8            1  "
      ]
     },
     "execution_count": 4,
     "metadata": {},
     "output_type": "execute_result"
    }
   ],
   "source": [
    "df.head()"
   ]
  },
  {
   "cell_type": "code",
   "execution_count": 5,
   "metadata": {},
   "outputs": [
    {
     "data": {
      "text/plain": [
       "(299, 13)"
      ]
     },
     "execution_count": 5,
     "metadata": {},
     "output_type": "execute_result"
    }
   ],
   "source": [
    "df.shape"
   ]
  },
  {
   "cell_type": "code",
   "execution_count": 6,
   "metadata": {},
   "outputs": [
    {
     "name": "stdout",
     "output_type": "stream",
     "text": [
      "<class 'pandas.core.frame.DataFrame'>\n",
      "RangeIndex: 299 entries, 0 to 298\n",
      "Data columns (total 13 columns):\n",
      " #   Column                    Non-Null Count  Dtype  \n",
      "---  ------                    --------------  -----  \n",
      " 0   age                       299 non-null    float64\n",
      " 1   anaemia                   299 non-null    int64  \n",
      " 2   creatinine_phosphokinase  299 non-null    int64  \n",
      " 3   diabetes                  299 non-null    int64  \n",
      " 4   ejection_fraction         299 non-null    int64  \n",
      " 5   high_blood_pressure       299 non-null    int64  \n",
      " 6   platelets                 299 non-null    float64\n",
      " 7   serum_creatinine          299 non-null    float64\n",
      " 8   serum_sodium              299 non-null    int64  \n",
      " 9   sex                       299 non-null    int64  \n",
      " 10  smoking                   299 non-null    int64  \n",
      " 11  time                      299 non-null    int64  \n",
      " 12  DEATH_EVENT               299 non-null    int64  \n",
      "dtypes: float64(3), int64(10)\n",
      "memory usage: 30.5 KB\n"
     ]
    }
   ],
   "source": [
    "df.info()"
   ]
  },
  {
   "cell_type": "markdown",
   "metadata": {},
   "source": [
    "# Exploratory Data Analysis"
   ]
  },
  {
   "cell_type": "code",
   "execution_count": 7,
   "metadata": {},
   "outputs": [
    {
     "data": {
      "text/html": [
       "<div>\n",
       "<style scoped>\n",
       "    .dataframe tbody tr th:only-of-type {\n",
       "        vertical-align: middle;\n",
       "    }\n",
       "\n",
       "    .dataframe tbody tr th {\n",
       "        vertical-align: top;\n",
       "    }\n",
       "\n",
       "    .dataframe thead th {\n",
       "        text-align: right;\n",
       "    }\n",
       "</style>\n",
       "<table border=\"1\" class=\"dataframe\">\n",
       "  <thead>\n",
       "    <tr style=\"text-align: right;\">\n",
       "      <th></th>\n",
       "      <th>age</th>\n",
       "      <th>anaemia</th>\n",
       "      <th>creatinine_phosphokinase</th>\n",
       "      <th>diabetes</th>\n",
       "      <th>ejection_fraction</th>\n",
       "      <th>high_blood_pressure</th>\n",
       "      <th>platelets</th>\n",
       "      <th>serum_creatinine</th>\n",
       "      <th>serum_sodium</th>\n",
       "      <th>sex</th>\n",
       "      <th>smoking</th>\n",
       "      <th>time</th>\n",
       "      <th>DEATH_EVENT</th>\n",
       "    </tr>\n",
       "  </thead>\n",
       "  <tbody>\n",
       "    <tr>\n",
       "      <th>count</th>\n",
       "      <td>299.000000</td>\n",
       "      <td>299.000000</td>\n",
       "      <td>299.000000</td>\n",
       "      <td>299.000000</td>\n",
       "      <td>299.000000</td>\n",
       "      <td>299.000000</td>\n",
       "      <td>299.000000</td>\n",
       "      <td>299.00000</td>\n",
       "      <td>299.000000</td>\n",
       "      <td>299.000000</td>\n",
       "      <td>299.00000</td>\n",
       "      <td>299.000000</td>\n",
       "      <td>299.00000</td>\n",
       "    </tr>\n",
       "    <tr>\n",
       "      <th>mean</th>\n",
       "      <td>60.833893</td>\n",
       "      <td>0.431438</td>\n",
       "      <td>581.839465</td>\n",
       "      <td>0.418060</td>\n",
       "      <td>38.083612</td>\n",
       "      <td>0.351171</td>\n",
       "      <td>263358.029264</td>\n",
       "      <td>1.39388</td>\n",
       "      <td>136.625418</td>\n",
       "      <td>0.648829</td>\n",
       "      <td>0.32107</td>\n",
       "      <td>130.260870</td>\n",
       "      <td>0.32107</td>\n",
       "    </tr>\n",
       "    <tr>\n",
       "      <th>std</th>\n",
       "      <td>11.894809</td>\n",
       "      <td>0.496107</td>\n",
       "      <td>970.287881</td>\n",
       "      <td>0.494067</td>\n",
       "      <td>11.834841</td>\n",
       "      <td>0.478136</td>\n",
       "      <td>97804.236869</td>\n",
       "      <td>1.03451</td>\n",
       "      <td>4.412477</td>\n",
       "      <td>0.478136</td>\n",
       "      <td>0.46767</td>\n",
       "      <td>77.614208</td>\n",
       "      <td>0.46767</td>\n",
       "    </tr>\n",
       "    <tr>\n",
       "      <th>min</th>\n",
       "      <td>40.000000</td>\n",
       "      <td>0.000000</td>\n",
       "      <td>23.000000</td>\n",
       "      <td>0.000000</td>\n",
       "      <td>14.000000</td>\n",
       "      <td>0.000000</td>\n",
       "      <td>25100.000000</td>\n",
       "      <td>0.50000</td>\n",
       "      <td>113.000000</td>\n",
       "      <td>0.000000</td>\n",
       "      <td>0.00000</td>\n",
       "      <td>4.000000</td>\n",
       "      <td>0.00000</td>\n",
       "    </tr>\n",
       "    <tr>\n",
       "      <th>25%</th>\n",
       "      <td>51.000000</td>\n",
       "      <td>0.000000</td>\n",
       "      <td>116.500000</td>\n",
       "      <td>0.000000</td>\n",
       "      <td>30.000000</td>\n",
       "      <td>0.000000</td>\n",
       "      <td>212500.000000</td>\n",
       "      <td>0.90000</td>\n",
       "      <td>134.000000</td>\n",
       "      <td>0.000000</td>\n",
       "      <td>0.00000</td>\n",
       "      <td>73.000000</td>\n",
       "      <td>0.00000</td>\n",
       "    </tr>\n",
       "    <tr>\n",
       "      <th>50%</th>\n",
       "      <td>60.000000</td>\n",
       "      <td>0.000000</td>\n",
       "      <td>250.000000</td>\n",
       "      <td>0.000000</td>\n",
       "      <td>38.000000</td>\n",
       "      <td>0.000000</td>\n",
       "      <td>262000.000000</td>\n",
       "      <td>1.10000</td>\n",
       "      <td>137.000000</td>\n",
       "      <td>1.000000</td>\n",
       "      <td>0.00000</td>\n",
       "      <td>115.000000</td>\n",
       "      <td>0.00000</td>\n",
       "    </tr>\n",
       "    <tr>\n",
       "      <th>75%</th>\n",
       "      <td>70.000000</td>\n",
       "      <td>1.000000</td>\n",
       "      <td>582.000000</td>\n",
       "      <td>1.000000</td>\n",
       "      <td>45.000000</td>\n",
       "      <td>1.000000</td>\n",
       "      <td>303500.000000</td>\n",
       "      <td>1.40000</td>\n",
       "      <td>140.000000</td>\n",
       "      <td>1.000000</td>\n",
       "      <td>1.00000</td>\n",
       "      <td>203.000000</td>\n",
       "      <td>1.00000</td>\n",
       "    </tr>\n",
       "    <tr>\n",
       "      <th>max</th>\n",
       "      <td>95.000000</td>\n",
       "      <td>1.000000</td>\n",
       "      <td>7861.000000</td>\n",
       "      <td>1.000000</td>\n",
       "      <td>80.000000</td>\n",
       "      <td>1.000000</td>\n",
       "      <td>850000.000000</td>\n",
       "      <td>9.40000</td>\n",
       "      <td>148.000000</td>\n",
       "      <td>1.000000</td>\n",
       "      <td>1.00000</td>\n",
       "      <td>285.000000</td>\n",
       "      <td>1.00000</td>\n",
       "    </tr>\n",
       "  </tbody>\n",
       "</table>\n",
       "</div>"
      ],
      "text/plain": [
       "              age     anaemia  creatinine_phosphokinase    diabetes  \\\n",
       "count  299.000000  299.000000                299.000000  299.000000   \n",
       "mean    60.833893    0.431438                581.839465    0.418060   \n",
       "std     11.894809    0.496107                970.287881    0.494067   \n",
       "min     40.000000    0.000000                 23.000000    0.000000   \n",
       "25%     51.000000    0.000000                116.500000    0.000000   \n",
       "50%     60.000000    0.000000                250.000000    0.000000   \n",
       "75%     70.000000    1.000000                582.000000    1.000000   \n",
       "max     95.000000    1.000000               7861.000000    1.000000   \n",
       "\n",
       "       ejection_fraction  high_blood_pressure      platelets  \\\n",
       "count         299.000000           299.000000     299.000000   \n",
       "mean           38.083612             0.351171  263358.029264   \n",
       "std            11.834841             0.478136   97804.236869   \n",
       "min            14.000000             0.000000   25100.000000   \n",
       "25%            30.000000             0.000000  212500.000000   \n",
       "50%            38.000000             0.000000  262000.000000   \n",
       "75%            45.000000             1.000000  303500.000000   \n",
       "max            80.000000             1.000000  850000.000000   \n",
       "\n",
       "       serum_creatinine  serum_sodium         sex    smoking        time  \\\n",
       "count         299.00000    299.000000  299.000000  299.00000  299.000000   \n",
       "mean            1.39388    136.625418    0.648829    0.32107  130.260870   \n",
       "std             1.03451      4.412477    0.478136    0.46767   77.614208   \n",
       "min             0.50000    113.000000    0.000000    0.00000    4.000000   \n",
       "25%             0.90000    134.000000    0.000000    0.00000   73.000000   \n",
       "50%             1.10000    137.000000    1.000000    0.00000  115.000000   \n",
       "75%             1.40000    140.000000    1.000000    1.00000  203.000000   \n",
       "max             9.40000    148.000000    1.000000    1.00000  285.000000   \n",
       "\n",
       "       DEATH_EVENT  \n",
       "count    299.00000  \n",
       "mean       0.32107  \n",
       "std        0.46767  \n",
       "min        0.00000  \n",
       "25%        0.00000  \n",
       "50%        0.00000  \n",
       "75%        1.00000  \n",
       "max        1.00000  "
      ]
     },
     "execution_count": 7,
     "metadata": {},
     "output_type": "execute_result"
    }
   ],
   "source": [
    "df.describe()"
   ]
  },
  {
   "cell_type": "code",
   "execution_count": 8,
   "metadata": {},
   "outputs": [
    {
     "data": {
      "text/plain": [
       "0    203\n",
       "1     96\n",
       "Name: DEATH_EVENT, dtype: int64"
      ]
     },
     "execution_count": 8,
     "metadata": {},
     "output_type": "execute_result"
    }
   ],
   "source": [
    "df['DEATH_EVENT'].value_counts()"
   ]
  },
  {
   "cell_type": "code",
   "execution_count": 9,
   "metadata": {},
   "outputs": [
    {
     "data": {
      "text/plain": [
       "Text(0.5, 1.0, 'Death Counts')"
      ]
     },
     "execution_count": 9,
     "metadata": {},
     "output_type": "execute_result"
    },
    {
     "data": {
      "image/png": "[encoded data removed]",
      "text/plain": [
       "<Figure size 432x288 with 1 Axes>"
      ]
     },
     "metadata": {
      "needs_background": "light"
     },
     "output_type": "display_data"
    }
   ],
   "source": [
    "sns.countplot(df['DEATH_EVENT'])\n",
    "plt.title('Death Counts')"
   ]
  },
  {
   "cell_type": "code",
   "execution_count": 10,
   "metadata": {},
   "outputs": [
    {
     "data": {
      "text/plain": [
       "0    170\n",
       "1    129\n",
       "Name: anaemia, dtype: int64"
      ]
     },
     "execution_count": 10,
     "metadata": {},
     "output_type": "execute_result"
    }
   ],
   "source": [
    "df['anaemia'].value_counts()"
   ]
  },
  {
   "cell_type": "code",
   "execution_count": 12,
   "metadata": {},
   "outputs": [
    {
     "data": {
      "text/plain": [
       "Text(0.5, 1.0, 'Anaemia Count')"
      ]
     },
     "execution_count": 12,
     "metadata": {},
     "output_type": "execute_result"
    },
    {
     "data": {
      "image/png": "[encoded data removed]",
      "text/plain": [
       "<Figure size 432x288 with 1 Axes>"
      ]
     },
     "metadata": {
      "needs_background": "light"
     },
     "output_type": "display_data"
    }
   ],
   "source": [
    "sns.countplot(df['anaemia'])\n",
    "plt.title(\"Anaemia Count\")"
   ]
  },
  {
   "cell_type": "code",
   "execution_count": 13,
   "metadata": {},
   "outputs": [
    {
     "data": {
      "text/plain": [
       "0    174\n",
       "1    125\n",
       "Name: diabetes, dtype: int64"
      ]
     },
     "execution_count": 13,
     "metadata": {},
     "output_type": "execute_result"
    }
   ],
   "source": [
    "df['diabetes'].value_counts()"
   ]
  },
  {
   "cell_type": "code",
   "execution_count": 15,
   "metadata": {},
   "outputs": [
    {
     "data": {
      "text/plain": [
       "Text(0.5, 1.0, 'Diabetes Count')"
      ]
     },
     "execution_count": 15,
     "metadata": {},
     "output_type": "execute_result"
    },
    {
     "data": {
      "image/png": "[encoded data removed]",
      "text/plain": [
       "<Figure size 432x288 with 1 Axes>"
      ]
     },
     "metadata": {
      "needs_background": "light"
     },
     "output_type": "display_data"
    }
   ],
   "source": [
    "sns.countplot(df['diabetes'])\n",
    "plt.title('Diabetes Count')"
   ]
  },
  {
   "cell_type": "code",
   "execution_count": 17,
   "metadata": {},
   "outputs": [
    {
     "data": {
      "text/plain": [
       "0    194\n",
       "1    105\n",
       "Name: high_blood_pressure, dtype: int64"
      ]
     },
     "execution_count": 17,
     "metadata": {},
     "output_type": "execute_result"
    }
   ],
   "source": [
    "df['high_blood_pressure'].value_counts()"
   ]
  },
  {
   "cell_type": "code",
   "execution_count": 16,
   "metadata": {},
   "outputs": [
    {
     "data": {
      "text/plain": [
       "Text(0.5, 1.0, 'High Blood Pressure Count')"
      ]
     },
     "execution_count": 16,
     "metadata": {},
     "output_type": "execute_result"
    },
    {
     "data": {
      "image/png": "[encoded data removed]",
      "text/plain": [
       "<Figure size 432x288 with 1 Axes>"
      ]
     },
     "metadata": {
      "needs_background": "light"
     },
     "output_type": "display_data"
    }
   ],
   "source": [
    "sns.countplot(df['high_blood_pressure'])\n",
    "plt.title('High Blood Pressure Count')"
   ]
  },
  {
   "cell_type": "code",
   "execution_count": 49,
   "metadata": {},
   "outputs": [
    {
     "name": "stderr",
     "output_type": "stream",
     "text": [
      "C:\\Users\\Jwpel\\Anaconda3\\lib\\site-packages\\matplotlib\\figure.py:445: UserWarning: Matplotlib is currently using module://ipykernel.pylab.backend_inline, which is a non-GUI backend, so cannot show the figure.\n",
      "  % get_backend())\n"
     ]
    },
    {
     "data": {
      "image/png": "[encoded data removed]",
      "text/plain": [
       "<Figure size 1080x216 with 5 Axes>"
      ]
     },
     "metadata": {
      "needs_background": "light"
     },
     "output_type": "display_data"
    }
   ],
   "source": [
    "fig, ax =plt.subplots(ncols=5, figsize = (15,3))\n",
    "sns.countplot(df['anaemia'], ax=ax[0])\n",
    "sns.countplot(df['diabetes'], ax=ax[1])\n",
    "sns.countplot(df['high_blood_pressure'], ax=ax[2])\n",
    "sns.countplot(df['sex'], ax=ax[3])\n",
    "sns.countplot(df['smoking'], ax=ax[4])\n",
    "fig.show()"
   ]
  },
  {
   "cell_type": "code",
   "execution_count": 73,
   "metadata": {},
   "outputs": [
    {
     "data": {
      "text/plain": [
       "Text(0.5, 1.0, 'Age Histogram')"
      ]
     },
     "execution_count": 73,
     "metadata": {},
     "output_type": "execute_result"
    },
    {
     "data": {
      "image/png": "[encoded data removed]",
      "text/plain": [
       "<Figure size 432x288 with 1 Axes>"
      ]
     },
     "metadata": {
      "needs_background": "light"
     },
     "output_type": "display_data"
    }
   ],
   "source": [
    "df['age'].hist(bins = 15, color = 'c')\n",
    "plt.title(\"Age Histogram\")"
   ]
  },
  {
   "cell_type": "code",
   "execution_count": 72,
   "metadata": {},
   "outputs": [
    {
     "data": {
      "text/plain": [
       "Text(0.5, 1.0, 'Creatinine Phosphokinase Histogram')"
      ]
     },
     "execution_count": 72,
     "metadata": {},
     "output_type": "execute_result"
    },
    {
     "data": {
      "image/png": "[encoded data removed]",
      "text/plain": [
       "<Figure size 432x288 with 1 Axes>"
      ]
     },
     "metadata": {
      "needs_background": "light"
     },
     "output_type": "display_data"
    }
   ],
   "source": [
    "df['creatinine_phosphokinase'].hist(bins = 30, color = 'c')\n",
    "plt.title(\"Creatinine Phosphokinase Histogram\")"
   ]
  },
  {
   "cell_type": "code",
   "execution_count": 71,
   "metadata": {},
   "outputs": [
    {
     "data": {
      "text/plain": [
       "Text(0.5, 1.0, 'Ejection Fraction Histogram')"
      ]
     },
     "execution_count": 71,
     "metadata": {},
     "output_type": "execute_result"
    },
    {
     "data": {
      "image/png": "[encoded data removed]",
      "text/plain": [
       "<Figure size 432x288 with 1 Axes>"
      ]
     },
     "metadata": {
      "needs_background": "light"
     },
     "output_type": "display_data"
    }
   ],
   "source": [
    "df['ejection_fraction'].hist(bins = 13, color = 'c')\n",
    "plt.title(\"Ejection Fraction Histogram\")"
   ]
  },
  {
   "cell_type": "code",
   "execution_count": 70,
   "metadata": {},
   "outputs": [
    {
     "data": {
      "text/plain": [
       "Text(0.5, 1.0, 'Platelets Histogram')"
      ]
     },
     "execution_count": 70,
     "metadata": {},
     "output_type": "execute_result"
    },
    {
     "data": {
      "image/png": "[encoded data removed]",
      "text/plain": [
       "<Figure size 432x288 with 1 Axes>"
      ]
     },
     "metadata": {
      "needs_background": "light"
     },
     "output_type": "display_data"
    }
   ],
   "source": [
    "df['platelets'].hist(bins = 10, color = 'c')\n",
    "plt.title(\"Platelets Histogram\")"
   ]
  },
  {
   "cell_type": "code",
   "execution_count": 85,
   "metadata": {},
   "outputs": [
    {
     "data": {
      "text/plain": [
       "Text(0.5, 1.0, 'Serum Creatinine Histogram')"
      ]
     },
     "execution_count": 85,
     "metadata": {},
     "output_type": "execute_result"
    },
    {
     "data": {
      "image/png": "[encoded data removed]",
      "text/plain": [
       "<Figure size 432x288 with 1 Axes>"
      ]
     },
     "metadata": {
      "needs_background": "light"
     },
     "output_type": "display_data"
    }
   ],
   "source": [
    "df['serum_creatinine'].hist(bins = 30, color = 'c')\n",
    "plt.title(\"Serum Creatinine Histogram\")"
   ]
  },
  {
   "cell_type": "code",
   "execution_count": 84,
   "metadata": {},
   "outputs": [
    {
     "data": {
      "text/plain": [
       "Text(0.5, 1.0, 'Serum Sodium Histogram')"
      ]
     },
     "execution_count": 84,
     "metadata": {},
     "output_type": "execute_result"
    },
    {
     "data": {
      "image/png": "[encoded data removed]",
      "text/plain": [
       "<Figure size 432x288 with 1 Axes>"
      ]
     },
     "metadata": {
      "needs_background": "light"
     },
     "output_type": "display_data"
    }
   ],
   "source": [
    "df['serum_sodium'].hist(bins = 30, color = 'c')\n",
    "plt.title(\"Serum Sodium Histogram\")"
   ]
  },
  {
   "cell_type": "code",
   "execution_count": 83,
   "metadata": {},
   "outputs": [
    {
     "data": {
      "text/plain": [
       "Text(0.5, 1.0, 'Time Histogram')"
      ]
     },
     "execution_count": 83,
     "metadata": {},
     "output_type": "execute_result"
    },
    {
     "data": {
      "image/png": "[encoded data removed]",
      "text/plain": [
       "<Figure size 432x288 with 1 Axes>"
      ]
     },
     "metadata": {
      "needs_background": "light"
     },
     "output_type": "display_data"
    }
   ],
   "source": [
    "df['time'].hist(bins = 30, color = 'c')\n",
    "plt.title(\"Time Histogram\")"
   ]
  },
  {
   "cell_type": "code",
   "execution_count": 86,
   "metadata": {},
   "outputs": [
    {
     "data": {
      "text/html": [
       "<div>\n",
       "<style scoped>\n",
       "    .dataframe tbody tr th:only-of-type {\n",
       "        vertical-align: middle;\n",
       "    }\n",
       "\n",
       "    .dataframe tbody tr th {\n",
       "        vertical-align: top;\n",
       "    }\n",
       "\n",
       "    .dataframe thead th {\n",
       "        text-align: right;\n",
       "    }\n",
       "</style>\n",
       "<table border=\"1\" class=\"dataframe\">\n",
       "  <thead>\n",
       "    <tr style=\"text-align: right;\">\n",
       "      <th></th>\n",
       "      <th>age</th>\n",
       "      <th>anaemia</th>\n",
       "      <th>creatinine_phosphokinase</th>\n",
       "      <th>diabetes</th>\n",
       "      <th>ejection_fraction</th>\n",
       "      <th>high_blood_pressure</th>\n",
       "      <th>platelets</th>\n",
       "      <th>serum_creatinine</th>\n",
       "      <th>serum_sodium</th>\n",
       "      <th>sex</th>\n",
       "      <th>smoking</th>\n",
       "      <th>time</th>\n",
       "      <th>DEATH_EVENT</th>\n",
       "    </tr>\n",
       "  </thead>\n",
       "  <tbody>\n",
       "    <tr>\n",
       "      <th>age</th>\n",
       "      <td>1.000000</td>\n",
       "      <td>0.088006</td>\n",
       "      <td>-0.081584</td>\n",
       "      <td>-0.101012</td>\n",
       "      <td>0.060098</td>\n",
       "      <td>0.093289</td>\n",
       "      <td>-0.052354</td>\n",
       "      <td>0.159187</td>\n",
       "      <td>-0.045966</td>\n",
       "      <td>0.065430</td>\n",
       "      <td>0.018668</td>\n",
       "      <td>-0.224068</td>\n",
       "      <td>0.253729</td>\n",
       "    </tr>\n",
       "    <tr>\n",
       "      <th>anaemia</th>\n",
       "      <td>0.088006</td>\n",
       "      <td>1.000000</td>\n",
       "      <td>-0.190741</td>\n",
       "      <td>-0.012729</td>\n",
       "      <td>0.031557</td>\n",
       "      <td>0.038182</td>\n",
       "      <td>-0.043786</td>\n",
       "      <td>0.052174</td>\n",
       "      <td>0.041882</td>\n",
       "      <td>-0.094769</td>\n",
       "      <td>-0.107290</td>\n",
       "      <td>-0.141414</td>\n",
       "      <td>0.066270</td>\n",
       "    </tr>\n",
       "    <tr>\n",
       "      <th>creatinine_phosphokinase</th>\n",
       "      <td>-0.081584</td>\n",
       "      <td>-0.190741</td>\n",
       "      <td>1.000000</td>\n",
       "      <td>-0.009639</td>\n",
       "      <td>-0.044080</td>\n",
       "      <td>-0.070590</td>\n",
       "      <td>0.024463</td>\n",
       "      <td>-0.016408</td>\n",
       "      <td>0.059550</td>\n",
       "      <td>0.079791</td>\n",
       "      <td>0.002421</td>\n",
       "      <td>-0.009346</td>\n",
       "      <td>0.062728</td>\n",
       "    </tr>\n",
       "    <tr>\n",
       "      <th>diabetes</th>\n",
       "      <td>-0.101012</td>\n",
       "      <td>-0.012729</td>\n",
       "      <td>-0.009639</td>\n",
       "      <td>1.000000</td>\n",
       "      <td>-0.004850</td>\n",
       "      <td>-0.012732</td>\n",
       "      <td>0.092193</td>\n",
       "      <td>-0.046975</td>\n",
       "      <td>-0.089551</td>\n",
       "      <td>-0.157730</td>\n",
       "      <td>-0.147173</td>\n",
       "      <td>0.033726</td>\n",
       "      <td>-0.001943</td>\n",
       "    </tr>\n",
       "    <tr>\n",
       "      <th>ejection_fraction</th>\n",
       "      <td>0.060098</td>\n",
       "      <td>0.031557</td>\n",
       "      <td>-0.044080</td>\n",
       "      <td>-0.004850</td>\n",
       "      <td>1.000000</td>\n",
       "      <td>0.024445</td>\n",
       "      <td>0.072177</td>\n",
       "      <td>-0.011302</td>\n",
       "      <td>0.175902</td>\n",
       "      <td>-0.148386</td>\n",
       "      <td>-0.067315</td>\n",
       "      <td>0.041729</td>\n",
       "      <td>-0.268603</td>\n",
       "    </tr>\n",
       "    <tr>\n",
       "      <th>high_blood_pressure</th>\n",
       "      <td>0.093289</td>\n",
       "      <td>0.038182</td>\n",
       "      <td>-0.070590</td>\n",
       "      <td>-0.012732</td>\n",
       "      <td>0.024445</td>\n",
       "      <td>1.000000</td>\n",
       "      <td>0.049963</td>\n",
       "      <td>-0.004935</td>\n",
       "      <td>0.037109</td>\n",
       "      <td>-0.104615</td>\n",
       "      <td>-0.055711</td>\n",
       "      <td>-0.196439</td>\n",
       "      <td>0.079351</td>\n",
       "    </tr>\n",
       "    <tr>\n",
       "      <th>platelets</th>\n",
       "      <td>-0.052354</td>\n",
       "      <td>-0.043786</td>\n",
       "      <td>0.024463</td>\n",
       "      <td>0.092193</td>\n",
       "      <td>0.072177</td>\n",
       "      <td>0.049963</td>\n",
       "      <td>1.000000</td>\n",
       "      <td>-0.041198</td>\n",
       "      <td>0.062125</td>\n",
       "      <td>-0.125120</td>\n",
       "      <td>0.028234</td>\n",
       "      <td>0.010514</td>\n",
       "      <td>-0.049139</td>\n",
       "    </tr>\n",
       "    <tr>\n",
       "      <th>serum_creatinine</th>\n",
       "      <td>0.159187</td>\n",
       "      <td>0.052174</td>\n",
       "      <td>-0.016408</td>\n",
       "      <td>-0.046975</td>\n",
       "      <td>-0.011302</td>\n",
       "      <td>-0.004935</td>\n",
       "      <td>-0.041198</td>\n",
       "      <td>1.000000</td>\n",
       "      <td>-0.189095</td>\n",
       "      <td>0.006970</td>\n",
       "      <td>-0.027414</td>\n",
       "      <td>-0.149315</td>\n",
       "      <td>0.294278</td>\n",
       "    </tr>\n",
       "    <tr>\n",
       "      <th>serum_sodium</th>\n",
       "      <td>-0.045966</td>\n",
       "      <td>0.041882</td>\n",
       "      <td>0.059550</td>\n",
       "      <td>-0.089551</td>\n",
       "      <td>0.175902</td>\n",
       "      <td>0.037109</td>\n",
       "      <td>0.062125</td>\n",
       "      <td>-0.189095</td>\n",
       "      <td>1.000000</td>\n",
       "      <td>-0.027566</td>\n",
       "      <td>0.004813</td>\n",
       "      <td>0.087640</td>\n",
       "      <td>-0.195204</td>\n",
       "    </tr>\n",
       "    <tr>\n",
       "      <th>sex</th>\n",
       "      <td>0.065430</td>\n",
       "      <td>-0.094769</td>\n",
       "      <td>0.079791</td>\n",
       "      <td>-0.157730</td>\n",
       "      <td>-0.148386</td>\n",
       "      <td>-0.104615</td>\n",
       "      <td>-0.125120</td>\n",
       "      <td>0.006970</td>\n",
       "      <td>-0.027566</td>\n",
       "      <td>1.000000</td>\n",
       "      <td>0.445892</td>\n",
       "      <td>-0.015608</td>\n",
       "      <td>-0.004316</td>\n",
       "    </tr>\n",
       "    <tr>\n",
       "      <th>smoking</th>\n",
       "      <td>0.018668</td>\n",
       "      <td>-0.107290</td>\n",
       "      <td>0.002421</td>\n",
       "      <td>-0.147173</td>\n",
       "      <td>-0.067315</td>\n",
       "      <td>-0.055711</td>\n",
       "      <td>0.028234</td>\n",
       "      <td>-0.027414</td>\n",
       "      <td>0.004813</td>\n",
       "      <td>0.445892</td>\n",
       "      <td>1.000000</td>\n",
       "      <td>-0.022839</td>\n",
       "      <td>-0.012623</td>\n",
       "    </tr>\n",
       "    <tr>\n",
       "      <th>time</th>\n",
       "      <td>-0.224068</td>\n",
       "      <td>-0.141414</td>\n",
       "      <td>-0.009346</td>\n",
       "      <td>0.033726</td>\n",
       "      <td>0.041729</td>\n",
       "      <td>-0.196439</td>\n",
       "      <td>0.010514</td>\n",
       "      <td>-0.149315</td>\n",
       "      <td>0.087640</td>\n",
       "      <td>-0.015608</td>\n",
       "      <td>-0.022839</td>\n",
       "      <td>1.000000</td>\n",
       "      <td>-0.526964</td>\n",
       "    </tr>\n",
       "    <tr>\n",
       "      <th>DEATH_EVENT</th>\n",
       "      <td>0.253729</td>\n",
       "      <td>0.066270</td>\n",
       "      <td>0.062728</td>\n",
       "      <td>-0.001943</td>\n",
       "      <td>-0.268603</td>\n",
       "      <td>0.079351</td>\n",
       "      <td>-0.049139</td>\n",
       "      <td>0.294278</td>\n",
       "      <td>-0.195204</td>\n",
       "      <td>-0.004316</td>\n",
       "      <td>-0.012623</td>\n",
       "      <td>-0.526964</td>\n",
       "      <td>1.000000</td>\n",
       "    </tr>\n",
       "  </tbody>\n",
       "</table>\n",
       "</div>"
      ],
      "text/plain": [
       "                               age   anaemia  creatinine_phosphokinase  \\\n",
       "age                       1.000000  0.088006                 -0.081584   \n",
       "anaemia                   0.088006  1.000000                 -0.190741   \n",
       "creatinine_phosphokinase -0.081584 -0.190741                  1.000000   \n",
       "diabetes                 -0.101012 -0.012729                 -0.009639   \n",
       "ejection_fraction         0.060098  0.031557                 -0.044080   \n",
       "high_blood_pressure       0.093289  0.038182                 -0.070590   \n",
       "platelets                -0.052354 -0.043786                  0.024463   \n",
       "serum_creatinine          0.159187  0.052174                 -0.016408   \n",
       "serum_sodium             -0.045966  0.041882                  0.059550   \n",
       "sex                       0.065430 -0.094769                  0.079791   \n",
       "smoking                   0.018668 -0.107290                  0.002421   \n",
       "time                     -0.224068 -0.141414                 -0.009346   \n",
       "DEATH_EVENT               0.253729  0.066270                  0.062728   \n",
       "\n",
       "                          diabetes  ejection_fraction  high_blood_pressure  \\\n",
       "age                      -0.101012           0.060098             0.093289   \n",
       "anaemia                  -0.012729           0.031557             0.038182   \n",
       "creatinine_phosphokinase -0.009639          -0.044080            -0.070590   \n",
       "diabetes                  1.000000          -0.004850            -0.012732   \n",
       "ejection_fraction        -0.004850           1.000000             0.024445   \n",
       "high_blood_pressure      -0.012732           0.024445             1.000000   \n",
       "platelets                 0.092193           0.072177             0.049963   \n",
       "serum_creatinine         -0.046975          -0.011302            -0.004935   \n",
       "serum_sodium             -0.089551           0.175902             0.037109   \n",
       "sex                      -0.157730          -0.148386            -0.104615   \n",
       "smoking                  -0.147173          -0.067315            -0.055711   \n",
       "time                      0.033726           0.041729            -0.196439   \n",
       "DEATH_EVENT              -0.001943          -0.268603             0.079351   \n",
       "\n",
       "                          platelets  serum_creatinine  serum_sodium       sex  \\\n",
       "age                       -0.052354          0.159187     -0.045966  0.065430   \n",
       "anaemia                   -0.043786          0.052174      0.041882 -0.094769   \n",
       "creatinine_phosphokinase   0.024463         -0.016408      0.059550  0.079791   \n",
       "diabetes                   0.092193         -0.046975     -0.089551 -0.157730   \n",
       "ejection_fraction          0.072177         -0.011302      0.175902 -0.148386   \n",
       "high_blood_pressure        0.049963         -0.004935      0.037109 -0.104615   \n",
       "platelets                  1.000000         -0.041198      0.062125 -0.125120   \n",
       "serum_creatinine          -0.041198          1.000000     -0.189095  0.006970   \n",
       "serum_sodium               0.062125         -0.189095      1.000000 -0.027566   \n",
       "sex                       -0.125120          0.006970     -0.027566  1.000000   \n",
       "smoking                    0.028234         -0.027414      0.004813  0.445892   \n",
       "time                       0.010514         -0.149315      0.087640 -0.015608   \n",
       "DEATH_EVENT               -0.049139          0.294278     -0.195204 -0.004316   \n",
       "\n",
       "                           smoking      time  DEATH_EVENT  \n",
       "age                       0.018668 -0.224068     0.253729  \n",
       "anaemia                  -0.107290 -0.141414     0.066270  \n",
       "creatinine_phosphokinase  0.002421 -0.009346     0.062728  \n",
       "diabetes                 -0.147173  0.033726    -0.001943  \n",
       "ejection_fraction        -0.067315  0.041729    -0.268603  \n",
       "high_blood_pressure      -0.055711 -0.196439     0.079351  \n",
       "platelets                 0.028234  0.010514    -0.049139  \n",
       "serum_creatinine         -0.027414 -0.149315     0.294278  \n",
       "serum_sodium              0.004813  0.087640    -0.195204  \n",
       "sex                       0.445892 -0.015608    -0.004316  \n",
       "smoking                   1.000000 -0.022839    -0.012623  \n",
       "time                     -0.022839  1.000000    -0.526964  \n",
       "DEATH_EVENT              -0.012623 -0.526964     1.000000  "
      ]
     },
     "execution_count": 86,
     "metadata": {},
     "output_type": "execute_result"
    }
   ],
   "source": [
    "corr = df.corr()\n",
    "corr"
   ]
  },
  {
   "cell_type": "code",
   "execution_count": 89,
   "metadata": {},
   "outputs": [
    {
     "data": {
      "text/plain": [
       "<matplotlib.axes._subplots.AxesSubplot at 0x1fb3d88e198>"
      ]
     },
     "execution_count": 89,
     "metadata": {},
     "output_type": "execute_result"
    },
    {
     "data": {
      "image/png": "[encoded data removed]",
      "text/plain": [
       "<Figure size 648x648 with 2 Axes>"
      ]
     },
     "metadata": {
      "needs_background": "light"
     },
     "output_type": "display_data"
    }
   ],
   "source": [
    "fig, ax = plt.subplots(figsize=(9,9))\n",
    "sns.heatmap(corr, \n",
    "        xticklabels=corr.columns,\n",
    "        yticklabels=corr.columns,\n",
    "        vmin = -1.0, vmax = 1.0,\n",
    "        center = 0, annot = False)"
   ]
  },
  {
   "cell_type": "markdown",
   "metadata": {},
   "source": [
    "# Random Forest"
   ]
  },
  {
   "cell_type": "code",
   "execution_count": 4,
   "metadata": {},
   "outputs": [],
   "source": [
    "# Create X and y values\n",
    "X = df.drop([\"DEATH_EVENT\"], axis = 1)\n",
    "y = df['DEATH_EVENT']"
   ]
  },
  {
   "cell_type": "code",
   "execution_count": 6,
   "metadata": {},
   "outputs": [],
   "source": [
    "from sklearn.pipeline import Pipeline"
   ]
  },
  {
   "cell_type": "code",
   "execution_count": 52,
   "metadata": {},
   "outputs": [],
   "source": [
    "rf = RandomForestClassifier()\n",
    "scaler = MinMaxScaler()"
   ]
  },
  {
   "cell_type": "code",
   "execution_count": 54,
   "metadata": {},
   "outputs": [],
   "source": [
    "# pipeline for gridsearch function\n",
    "rf_pipe = Pipeline([('Scaler', scaler), ('RandomForest', rf)])\n",
    "rf_params = {'RandomForest__n_estimators': [100, 200, 600],\n",
    "             'RandomForest__max_features': [3,5,6]\n",
    "             }"
   ]
  },
  {
   "cell_type": "code",
   "execution_count": 56,
   "metadata": {},
   "outputs": [],
   "source": [
    "from sklearn.model_selection import GridSearchCV"
   ]
  },
  {
   "cell_type": "code",
   "execution_count": 57,
   "metadata": {},
   "outputs": [],
   "source": [
    "X_train, X_test, y_train, y_test = train_test_split(X, y, test_size = .2, random_state = 9)"
   ]
  },
  {
   "cell_type": "code",
   "execution_count": 70,
   "metadata": {},
   "outputs": [
    {
     "data": {
      "text/plain": [
       "GridSearchCV(cv=8,\n",
       "             estimator=Pipeline(steps=[('Scaler', MinMaxScaler()),\n",
       "                                       ('RandomForest',\n",
       "                                        RandomForestClassifier())]),\n",
       "             param_grid={'RandomForest__max_features': [3, 5, 6],\n",
       "                         'RandomForest__n_estimators': [100, 200, 600]},\n",
       "             scoring='accuracy')"
      ]
     },
     "execution_count": 70,
     "metadata": {},
     "output_type": "execute_result"
    }
   ],
   "source": [
    "# GridSearch model to optimize parameters, 8 crossfold\n",
    "rf_grid = GridSearchCV(rf_pipe, param_grid = rf_params, cv = 8, scoring = \"accuracy\")\n",
    "rf_grid.fit(X_train, y_train)"
   ]
  },
  {
   "cell_type": "code",
   "execution_count": 72,
   "metadata": {},
   "outputs": [],
   "source": [
    "rf_grid.cv_results_\n",
    "rf_grid_results = pd.DataFrame(rf_grid.cv_results_)"
   ]
  },
  {
   "cell_type": "code",
   "execution_count": 73,
   "metadata": {
    "scrolled": true
   },
   "outputs": [
    {
     "data": {
      "text/html": [
       "<div>\n",
       "<style scoped>\n",
       "    .dataframe tbody tr th:only-of-type {\n",
       "        vertical-align: middle;\n",
       "    }\n",
       "\n",
       "    .dataframe tbody tr th {\n",
       "        vertical-align: top;\n",
       "    }\n",
       "\n",
       "    .dataframe thead th {\n",
       "        text-align: right;\n",
       "    }\n",
       "</style>\n",
       "<table border=\"1\" class=\"dataframe\">\n",
       "  <thead>\n",
       "    <tr style=\"text-align: right;\">\n",
       "      <th></th>\n",
       "      <th>mean_fit_time</th>\n",
       "      <th>std_fit_time</th>\n",
       "      <th>mean_score_time</th>\n",
       "      <th>std_score_time</th>\n",
       "      <th>param_RandomForest__max_features</th>\n",
       "      <th>param_RandomForest__n_estimators</th>\n",
       "      <th>params</th>\n",
       "      <th>split0_test_score</th>\n",
       "      <th>split1_test_score</th>\n",
       "      <th>split2_test_score</th>\n",
       "      <th>split3_test_score</th>\n",
       "      <th>split4_test_score</th>\n",
       "      <th>split5_test_score</th>\n",
       "      <th>split6_test_score</th>\n",
       "      <th>split7_test_score</th>\n",
       "      <th>mean_test_score</th>\n",
       "      <th>std_test_score</th>\n",
       "      <th>rank_test_score</th>\n",
       "    </tr>\n",
       "  </thead>\n",
       "  <tbody>\n",
       "    <tr>\n",
       "      <th>0</th>\n",
       "      <td>0.302618</td>\n",
       "      <td>0.029911</td>\n",
       "      <td>0.021587</td>\n",
       "      <td>0.002671</td>\n",
       "      <td>3</td>\n",
       "      <td>100</td>\n",
       "      <td>{'RandomForest__max_features': 3, 'RandomFores...</td>\n",
       "      <td>0.447368</td>\n",
       "      <td>0.789474</td>\n",
       "      <td>0.868421</td>\n",
       "      <td>0.837838</td>\n",
       "      <td>0.864865</td>\n",
       "      <td>0.729730</td>\n",
       "      <td>0.702703</td>\n",
       "      <td>0.675676</td>\n",
       "      <td>0.739509</td>\n",
       "      <td>0.130081</td>\n",
       "      <td>6</td>\n",
       "    </tr>\n",
       "    <tr>\n",
       "      <th>1</th>\n",
       "      <td>0.553292</td>\n",
       "      <td>0.019259</td>\n",
       "      <td>0.036019</td>\n",
       "      <td>0.002572</td>\n",
       "      <td>3</td>\n",
       "      <td>200</td>\n",
       "      <td>{'RandomForest__max_features': 3, 'RandomFores...</td>\n",
       "      <td>0.447368</td>\n",
       "      <td>0.842105</td>\n",
       "      <td>0.921053</td>\n",
       "      <td>0.864865</td>\n",
       "      <td>0.891892</td>\n",
       "      <td>0.729730</td>\n",
       "      <td>0.729730</td>\n",
       "      <td>0.675676</td>\n",
       "      <td>0.762802</td>\n",
       "      <td>0.144780</td>\n",
       "      <td>1</td>\n",
       "    </tr>\n",
       "    <tr>\n",
       "      <th>2</th>\n",
       "      <td>1.645282</td>\n",
       "      <td>0.058536</td>\n",
       "      <td>0.098627</td>\n",
       "      <td>0.004096</td>\n",
       "      <td>3</td>\n",
       "      <td>600</td>\n",
       "      <td>{'RandomForest__max_features': 3, 'RandomFores...</td>\n",
       "      <td>0.447368</td>\n",
       "      <td>0.842105</td>\n",
       "      <td>0.921053</td>\n",
       "      <td>0.864865</td>\n",
       "      <td>0.864865</td>\n",
       "      <td>0.756757</td>\n",
       "      <td>0.729730</td>\n",
       "      <td>0.675676</td>\n",
       "      <td>0.762802</td>\n",
       "      <td>0.141592</td>\n",
       "      <td>1</td>\n",
       "    </tr>\n",
       "    <tr>\n",
       "      <th>3</th>\n",
       "      <td>0.300190</td>\n",
       "      <td>0.032137</td>\n",
       "      <td>0.020029</td>\n",
       "      <td>0.003274</td>\n",
       "      <td>5</td>\n",
       "      <td>100</td>\n",
       "      <td>{'RandomForest__max_features': 5, 'RandomFores...</td>\n",
       "      <td>0.342105</td>\n",
       "      <td>0.842105</td>\n",
       "      <td>0.894737</td>\n",
       "      <td>0.837838</td>\n",
       "      <td>0.918919</td>\n",
       "      <td>0.621622</td>\n",
       "      <td>0.729730</td>\n",
       "      <td>0.675676</td>\n",
       "      <td>0.732841</td>\n",
       "      <td>0.177525</td>\n",
       "      <td>9</td>\n",
       "    </tr>\n",
       "    <tr>\n",
       "      <th>4</th>\n",
       "      <td>0.580690</td>\n",
       "      <td>0.015370</td>\n",
       "      <td>0.036858</td>\n",
       "      <td>0.002378</td>\n",
       "      <td>5</td>\n",
       "      <td>200</td>\n",
       "      <td>{'RandomForest__max_features': 5, 'RandomFores...</td>\n",
       "      <td>0.421053</td>\n",
       "      <td>0.842105</td>\n",
       "      <td>0.921053</td>\n",
       "      <td>0.837838</td>\n",
       "      <td>0.864865</td>\n",
       "      <td>0.648649</td>\n",
       "      <td>0.729730</td>\n",
       "      <td>0.675676</td>\n",
       "      <td>0.742621</td>\n",
       "      <td>0.151092</td>\n",
       "      <td>4</td>\n",
       "    </tr>\n",
       "    <tr>\n",
       "      <th>5</th>\n",
       "      <td>1.750825</td>\n",
       "      <td>0.085758</td>\n",
       "      <td>0.104935</td>\n",
       "      <td>0.018201</td>\n",
       "      <td>5</td>\n",
       "      <td>600</td>\n",
       "      <td>{'RandomForest__max_features': 5, 'RandomFores...</td>\n",
       "      <td>0.342105</td>\n",
       "      <td>0.842105</td>\n",
       "      <td>0.921053</td>\n",
       "      <td>0.864865</td>\n",
       "      <td>0.891892</td>\n",
       "      <td>0.621622</td>\n",
       "      <td>0.729730</td>\n",
       "      <td>0.675676</td>\n",
       "      <td>0.736131</td>\n",
       "      <td>0.179696</td>\n",
       "      <td>8</td>\n",
       "    </tr>\n",
       "    <tr>\n",
       "      <th>6</th>\n",
       "      <td>0.289411</td>\n",
       "      <td>0.005073</td>\n",
       "      <td>0.019836</td>\n",
       "      <td>0.002619</td>\n",
       "      <td>6</td>\n",
       "      <td>100</td>\n",
       "      <td>{'RandomForest__max_features': 6, 'RandomFores...</td>\n",
       "      <td>0.342105</td>\n",
       "      <td>0.842105</td>\n",
       "      <td>0.868421</td>\n",
       "      <td>0.891892</td>\n",
       "      <td>0.891892</td>\n",
       "      <td>0.648649</td>\n",
       "      <td>0.729730</td>\n",
       "      <td>0.675676</td>\n",
       "      <td>0.736309</td>\n",
       "      <td>0.174592</td>\n",
       "      <td>7</td>\n",
       "    </tr>\n",
       "    <tr>\n",
       "      <th>7</th>\n",
       "      <td>0.588324</td>\n",
       "      <td>0.020107</td>\n",
       "      <td>0.035526</td>\n",
       "      <td>0.002388</td>\n",
       "      <td>6</td>\n",
       "      <td>200</td>\n",
       "      <td>{'RandomForest__max_features': 6, 'RandomFores...</td>\n",
       "      <td>0.447368</td>\n",
       "      <td>0.842105</td>\n",
       "      <td>0.921053</td>\n",
       "      <td>0.918919</td>\n",
       "      <td>0.891892</td>\n",
       "      <td>0.621622</td>\n",
       "      <td>0.729730</td>\n",
       "      <td>0.675676</td>\n",
       "      <td>0.756046</td>\n",
       "      <td>0.158161</td>\n",
       "      <td>3</td>\n",
       "    </tr>\n",
       "    <tr>\n",
       "      <th>8</th>\n",
       "      <td>1.719759</td>\n",
       "      <td>0.026681</td>\n",
       "      <td>0.098069</td>\n",
       "      <td>0.005711</td>\n",
       "      <td>6</td>\n",
       "      <td>600</td>\n",
       "      <td>{'RandomForest__max_features': 6, 'RandomFores...</td>\n",
       "      <td>0.342105</td>\n",
       "      <td>0.842105</td>\n",
       "      <td>0.894737</td>\n",
       "      <td>0.891892</td>\n",
       "      <td>0.918919</td>\n",
       "      <td>0.621622</td>\n",
       "      <td>0.729730</td>\n",
       "      <td>0.675676</td>\n",
       "      <td>0.739598</td>\n",
       "      <td>0.182355</td>\n",
       "      <td>5</td>\n",
       "    </tr>\n",
       "  </tbody>\n",
       "</table>\n",
       "</div>"
      ],
      "text/plain": [
       "   mean_fit_time  std_fit_time  mean_score_time  std_score_time  \\\n",
       "0       0.302618      0.029911         0.021587        0.002671   \n",
       "1       0.553292      0.019259         0.036019        0.002572   \n",
       "2       1.645282      0.058536         0.098627        0.004096   \n",
       "3       0.300190      0.032137         0.020029        0.003274   \n",
       "4       0.580690      0.015370         0.036858        0.002378   \n",
       "5       1.750825      0.085758         0.104935        0.018201   \n",
       "6       0.289411      0.005073         0.019836        0.002619   \n",
       "7       0.588324      0.020107         0.035526        0.002388   \n",
       "8       1.719759      0.026681         0.098069        0.005711   \n",
       "\n",
       "  param_RandomForest__max_features param_RandomForest__n_estimators  \\\n",
       "0                                3                              100   \n",
       "1                                3                              200   \n",
       "2                                3                              600   \n",
       "3                                5                              100   \n",
       "4                                5                              200   \n",
       "5                                5                              600   \n",
       "6                                6                              100   \n",
       "7                                6                              200   \n",
       "8                                6                              600   \n",
       "\n",
       "                                              params  split0_test_score  \\\n",
       "0  {'RandomForest__max_features': 3, 'RandomFores...           0.447368   \n",
       "1  {'RandomForest__max_features': 3, 'RandomFores...           0.447368   \n",
       "2  {'RandomForest__max_features': 3, 'RandomFores...           0.447368   \n",
       "3  {'RandomForest__max_features': 5, 'RandomFores...           0.342105   \n",
       "4  {'RandomForest__max_features': 5, 'RandomFores...           0.421053   \n",
       "5  {'RandomForest__max_features': 5, 'RandomFores...           0.342105   \n",
       "6  {'RandomForest__max_features': 6, 'RandomFores...           0.342105   \n",
       "7  {'RandomForest__max_features': 6, 'RandomFores...           0.447368   \n",
       "8  {'RandomForest__max_features': 6, 'RandomFores...           0.342105   \n",
       "\n",
       "   split1_test_score  split2_test_score  split3_test_score  split4_test_score  \\\n",
       "0           0.789474           0.868421           0.837838           0.864865   \n",
       "1           0.842105           0.921053           0.864865           0.891892   \n",
       "2           0.842105           0.921053           0.864865           0.864865   \n",
       "3           0.842105           0.894737           0.837838           0.918919   \n",
       "4           0.842105           0.921053           0.837838           0.864865   \n",
       "5           0.842105           0.921053           0.864865           0.891892   \n",
       "6           0.842105           0.868421           0.891892           0.891892   \n",
       "7           0.842105           0.921053           0.918919           0.891892   \n",
       "8           0.842105           0.894737           0.891892           0.918919   \n",
       "\n",
       "   split5_test_score  split6_test_score  split7_test_score  mean_test_score  \\\n",
       "0           0.729730           0.702703           0.675676         0.739509   \n",
       "1           0.729730           0.729730           0.675676         0.762802   \n",
       "2           0.756757           0.729730           0.675676         0.762802   \n",
       "3           0.621622           0.729730           0.675676         0.732841   \n",
       "4           0.648649           0.729730           0.675676         0.742621   \n",
       "5           0.621622           0.729730           0.675676         0.736131   \n",
       "6           0.648649           0.729730           0.675676         0.736309   \n",
       "7           0.621622           0.729730           0.675676         0.756046   \n",
       "8           0.621622           0.729730           0.675676         0.739598   \n",
       "\n",
       "   std_test_score  rank_test_score  \n",
       "0        0.130081                6  \n",
       "1        0.144780                1  \n",
       "2        0.141592                1  \n",
       "3        0.177525                9  \n",
       "4        0.151092                4  \n",
       "5        0.179696                8  \n",
       "6        0.174592                7  \n",
       "7        0.158161                3  \n",
       "8        0.182355                5  "
      ]
     },
     "execution_count": 73,
     "metadata": {},
     "output_type": "execute_result"
    }
   ],
   "source": [
    "rf_grid_results"
   ]
  },
  {
   "cell_type": "code",
   "execution_count": 74,
   "metadata": {},
   "outputs": [
    {
     "data": {
      "text/plain": [
       "0.7628022759601707"
      ]
     },
     "execution_count": 74,
     "metadata": {},
     "output_type": "execute_result"
    }
   ],
   "source": [
    "rf_grid.best_score_"
   ]
  },
  {
   "cell_type": "code",
   "execution_count": 75,
   "metadata": {},
   "outputs": [
    {
     "data": {
      "text/plain": [
       "{'RandomForest__max_features': 3, 'RandomForest__n_estimators': 200}"
      ]
     },
     "execution_count": 75,
     "metadata": {},
     "output_type": "execute_result"
    }
   ],
   "source": [
    "rf_grid.best_params_"
   ]
  },
  {
   "cell_type": "code",
   "execution_count": 76,
   "metadata": {},
   "outputs": [],
   "source": [
    "rf_pred = rf_grid.predict(X_test)"
   ]
  },
  {
   "cell_type": "code",
   "execution_count": 78,
   "metadata": {},
   "outputs": [
    {
     "data": {
      "text/plain": [
       "1.0"
      ]
     },
     "execution_count": 78,
     "metadata": {},
     "output_type": "execute_result"
    }
   ],
   "source": [
    "rf_acc = accuracy_score(y_test, rf_pred)\n",
    "rf_acc"
   ]
  },
  {
   "cell_type": "code",
   "execution_count": 79,
   "metadata": {},
   "outputs": [
    {
     "data": {
      "text/plain": [
       "array([[45,  0],\n",
       "       [ 0, 15]], dtype=int64)"
      ]
     },
     "execution_count": 79,
     "metadata": {},
     "output_type": "execute_result"
    }
   ],
   "source": [
    "rf_conf = confusion_matrix(y_test, rf_pred)\n",
    "rf_conf"
   ]
  },
  {
   "cell_type": "code",
   "execution_count": 80,
   "metadata": {},
   "outputs": [],
   "source": [
    "rf_conf = pd.DataFrame(data = rf_conf, columns = [['Pred:No Failure', 'Pred: Failure']], index = [['Act: No Failure', 'Act: Failure']])"
   ]
  },
  {
   "cell_type": "code",
   "execution_count": 166,
   "metadata": {},
   "outputs": [
    {
     "data": {
      "text/plain": [
       "Text(0.5, 1.0, 'RF Confusion Matrix')"
      ]
     },
     "execution_count": 166,
     "metadata": {},
     "output_type": "execute_result"
    },
    {
     "data": {
      "image/png": "[encoded data removed]",
      "text/plain": [
       "<Figure size 432x288 with 2 Axes>"
      ]
     },
     "metadata": {
      "needs_background": "light"
     },
     "output_type": "display_data"
    }
   ],
   "source": [
    "sns.heatmap(rf_conf, annot = True)\n",
    "plt.title(\"RF Confusion Matrix\")"
   ]
  },
  {
   "cell_type": "code",
   "execution_count": 147,
   "metadata": {},
   "outputs": [
    {
     "data": {
      "text/plain": [
       "0"
      ]
     },
     "execution_count": 147,
     "metadata": {},
     "output_type": "execute_result"
    }
   ],
   "source": [
    "rf_fn= rf_conf.iloc[1,0]\n",
    "rf_fn"
   ]
  },
  {
   "cell_type": "code",
   "execution_count": 148,
   "metadata": {},
   "outputs": [
    {
     "data": {
      "text/plain": [
       "15"
      ]
     },
     "execution_count": 148,
     "metadata": {},
     "output_type": "execute_result"
    }
   ],
   "source": [
    "rf_tp = rf_conf.iloc[1,1]\n",
    "rf_tp"
   ]
  },
  {
   "cell_type": "code",
   "execution_count": 150,
   "metadata": {},
   "outputs": [
    {
     "data": {
      "text/plain": [
       "1.0"
      ]
     },
     "execution_count": 150,
     "metadata": {},
     "output_type": "execute_result"
    }
   ],
   "source": [
    "# assigning precision value\n",
    "rf_prec = rf_tp/(rf_fn + rf_tp)\n",
    "rf_prec"
   ]
  },
  {
   "cell_type": "markdown",
   "metadata": {},
   "source": [
    "# Support Vector Machine"
   ]
  },
  {
   "cell_type": "code",
   "execution_count": 90,
   "metadata": {},
   "outputs": [],
   "source": [
    "svc = svm.SVC()\n",
    "svc_pipe = Pipeline([('Scaler', scaler), ('svc', svc )])"
   ]
  },
  {
   "cell_type": "code",
   "execution_count": 92,
   "metadata": {},
   "outputs": [],
   "source": [
    "gamma_range = range(1,10)\n",
    "c_range = range(1,10)"
   ]
  },
  {
   "cell_type": "code",
   "execution_count": 94,
   "metadata": {},
   "outputs": [],
   "source": [
    "svc_params = dict(svc__gamma = gamma_range, svc__C = c_range)"
   ]
  },
  {
   "cell_type": "code",
   "execution_count": 95,
   "metadata": {},
   "outputs": [],
   "source": [
    "svc_grid = GridSearchCV(svc_pipe, param_grid = svc_params, cv = 8, scoring = \"accuracy\", n_jobs=-1)"
   ]
  },
  {
   "cell_type": "code",
   "execution_count": 96,
   "metadata": {},
   "outputs": [
    {
     "data": {
      "text/plain": [
       "GridSearchCV(cv=8,\n",
       "             estimator=Pipeline(steps=[('Scaler', MinMaxScaler()),\n",
       "                                       ('svc', SVC())]),\n",
       "             n_jobs=-1,\n",
       "             param_grid={'svc__C': range(1, 10), 'svc__gamma': range(1, 10)},\n",
       "             scoring='accuracy')"
      ]
     },
     "execution_count": 96,
     "metadata": {},
     "output_type": "execute_result"
    }
   ],
   "source": [
    "svc_grid.fit(X_train, y_train)"
   ]
  },
  {
   "cell_type": "code",
   "execution_count": 97,
   "metadata": {},
   "outputs": [],
   "source": [
    "svc_results = pd.DataFrame(svc_grid.cv_results_)"
   ]
  },
  {
   "cell_type": "code",
   "execution_count": 98,
   "metadata": {},
   "outputs": [
    {
     "data": {
      "text/html": [
       "<div>\n",
       "<style scoped>\n",
       "    .dataframe tbody tr th:only-of-type {\n",
       "        vertical-align: middle;\n",
       "    }\n",
       "\n",
       "    .dataframe tbody tr th {\n",
       "        vertical-align: top;\n",
       "    }\n",
       "\n",
       "    .dataframe thead th {\n",
       "        text-align: right;\n",
       "    }\n",
       "</style>\n",
       "<table border=\"1\" class=\"dataframe\">\n",
       "  <thead>\n",
       "    <tr style=\"text-align: right;\">\n",
       "      <th></th>\n",
       "      <th>mean_fit_time</th>\n",
       "      <th>std_fit_time</th>\n",
       "      <th>mean_score_time</th>\n",
       "      <th>std_score_time</th>\n",
       "      <th>param_svc__C</th>\n",
       "      <th>param_svc__gamma</th>\n",
       "      <th>params</th>\n",
       "      <th>split0_test_score</th>\n",
       "      <th>split1_test_score</th>\n",
       "      <th>split2_test_score</th>\n",
       "      <th>split3_test_score</th>\n",
       "      <th>split4_test_score</th>\n",
       "      <th>split5_test_score</th>\n",
       "      <th>split6_test_score</th>\n",
       "      <th>split7_test_score</th>\n",
       "      <th>mean_test_score</th>\n",
       "      <th>std_test_score</th>\n",
       "      <th>rank_test_score</th>\n",
       "    </tr>\n",
       "  </thead>\n",
       "  <tbody>\n",
       "    <tr>\n",
       "      <th>0</th>\n",
       "      <td>0.016411</td>\n",
       "      <td>0.002130</td>\n",
       "      <td>0.008141</td>\n",
       "      <td>0.004299</td>\n",
       "      <td>1</td>\n",
       "      <td>1</td>\n",
       "      <td>{'svc__C': 1, 'svc__gamma': 1}</td>\n",
       "      <td>0.633333</td>\n",
       "      <td>0.900000</td>\n",
       "      <td>0.800000</td>\n",
       "      <td>0.833333</td>\n",
       "      <td>0.766667</td>\n",
       "      <td>0.700000</td>\n",
       "      <td>0.733333</td>\n",
       "      <td>0.793103</td>\n",
       "      <td>0.769971</td>\n",
       "      <td>0.076875</td>\n",
       "      <td>7</td>\n",
       "    </tr>\n",
       "    <tr>\n",
       "      <th>1</th>\n",
       "      <td>0.017976</td>\n",
       "      <td>0.001864</td>\n",
       "      <td>0.008084</td>\n",
       "      <td>0.002478</td>\n",
       "      <td>1</td>\n",
       "      <td>2</td>\n",
       "      <td>{'svc__C': 1, 'svc__gamma': 2}</td>\n",
       "      <td>0.633333</td>\n",
       "      <td>0.833333</td>\n",
       "      <td>0.700000</td>\n",
       "      <td>0.833333</td>\n",
       "      <td>0.800000</td>\n",
       "      <td>0.766667</td>\n",
       "      <td>0.733333</td>\n",
       "      <td>0.793103</td>\n",
       "      <td>0.761638</td>\n",
       "      <td>0.065029</td>\n",
       "      <td>11</td>\n",
       "    </tr>\n",
       "    <tr>\n",
       "      <th>2</th>\n",
       "      <td>0.018637</td>\n",
       "      <td>0.001615</td>\n",
       "      <td>0.010983</td>\n",
       "      <td>0.007483</td>\n",
       "      <td>1</td>\n",
       "      <td>3</td>\n",
       "      <td>{'svc__C': 1, 'svc__gamma': 3}</td>\n",
       "      <td>0.600000</td>\n",
       "      <td>0.800000</td>\n",
       "      <td>0.633333</td>\n",
       "      <td>0.800000</td>\n",
       "      <td>0.766667</td>\n",
       "      <td>0.700000</td>\n",
       "      <td>0.666667</td>\n",
       "      <td>0.793103</td>\n",
       "      <td>0.719971</td>\n",
       "      <td>0.075397</td>\n",
       "      <td>20</td>\n",
       "    </tr>\n",
       "    <tr>\n",
       "      <th>3</th>\n",
       "      <td>0.024575</td>\n",
       "      <td>0.008084</td>\n",
       "      <td>0.006758</td>\n",
       "      <td>0.001382</td>\n",
       "      <td>1</td>\n",
       "      <td>4</td>\n",
       "      <td>{'svc__C': 1, 'svc__gamma': 4}</td>\n",
       "      <td>0.600000</td>\n",
       "      <td>0.733333</td>\n",
       "      <td>0.633333</td>\n",
       "      <td>0.766667</td>\n",
       "      <td>0.766667</td>\n",
       "      <td>0.700000</td>\n",
       "      <td>0.666667</td>\n",
       "      <td>0.793103</td>\n",
       "      <td>0.707471</td>\n",
       "      <td>0.064978</td>\n",
       "      <td>23</td>\n",
       "    </tr>\n",
       "    <tr>\n",
       "      <th>4</th>\n",
       "      <td>0.023787</td>\n",
       "      <td>0.010712</td>\n",
       "      <td>0.006425</td>\n",
       "      <td>0.001670</td>\n",
       "      <td>1</td>\n",
       "      <td>5</td>\n",
       "      <td>{'svc__C': 1, 'svc__gamma': 5}</td>\n",
       "      <td>0.600000</td>\n",
       "      <td>0.733333</td>\n",
       "      <td>0.633333</td>\n",
       "      <td>0.733333</td>\n",
       "      <td>0.766667</td>\n",
       "      <td>0.666667</td>\n",
       "      <td>0.666667</td>\n",
       "      <td>0.724138</td>\n",
       "      <td>0.690517</td>\n",
       "      <td>0.053848</td>\n",
       "      <td>32</td>\n",
       "    </tr>\n",
       "    <tr>\n",
       "      <th>...</th>\n",
       "      <td>...</td>\n",
       "      <td>...</td>\n",
       "      <td>...</td>\n",
       "      <td>...</td>\n",
       "      <td>...</td>\n",
       "      <td>...</td>\n",
       "      <td>...</td>\n",
       "      <td>...</td>\n",
       "      <td>...</td>\n",
       "      <td>...</td>\n",
       "      <td>...</td>\n",
       "      <td>...</td>\n",
       "      <td>...</td>\n",
       "      <td>...</td>\n",
       "      <td>...</td>\n",
       "      <td>...</td>\n",
       "      <td>...</td>\n",
       "      <td>...</td>\n",
       "    </tr>\n",
       "    <tr>\n",
       "      <th>76</th>\n",
       "      <td>0.019016</td>\n",
       "      <td>0.003949</td>\n",
       "      <td>0.007272</td>\n",
       "      <td>0.002981</td>\n",
       "      <td>9</td>\n",
       "      <td>5</td>\n",
       "      <td>{'svc__C': 9, 'svc__gamma': 5}</td>\n",
       "      <td>0.566667</td>\n",
       "      <td>0.766667</td>\n",
       "      <td>0.666667</td>\n",
       "      <td>0.766667</td>\n",
       "      <td>0.666667</td>\n",
       "      <td>0.633333</td>\n",
       "      <td>0.700000</td>\n",
       "      <td>0.758621</td>\n",
       "      <td>0.690661</td>\n",
       "      <td>0.067149</td>\n",
       "      <td>29</td>\n",
       "    </tr>\n",
       "    <tr>\n",
       "      <th>77</th>\n",
       "      <td>0.023472</td>\n",
       "      <td>0.006340</td>\n",
       "      <td>0.006123</td>\n",
       "      <td>0.005251</td>\n",
       "      <td>9</td>\n",
       "      <td>6</td>\n",
       "      <td>{'svc__C': 9, 'svc__gamma': 6}</td>\n",
       "      <td>0.566667</td>\n",
       "      <td>0.733333</td>\n",
       "      <td>0.666667</td>\n",
       "      <td>0.800000</td>\n",
       "      <td>0.666667</td>\n",
       "      <td>0.633333</td>\n",
       "      <td>0.700000</td>\n",
       "      <td>0.724138</td>\n",
       "      <td>0.686351</td>\n",
       "      <td>0.065810</td>\n",
       "      <td>40</td>\n",
       "    </tr>\n",
       "    <tr>\n",
       "      <th>78</th>\n",
       "      <td>0.023159</td>\n",
       "      <td>0.006252</td>\n",
       "      <td>0.006632</td>\n",
       "      <td>0.001788</td>\n",
       "      <td>9</td>\n",
       "      <td>7</td>\n",
       "      <td>{'svc__C': 9, 'svc__gamma': 7}</td>\n",
       "      <td>0.566667</td>\n",
       "      <td>0.733333</td>\n",
       "      <td>0.633333</td>\n",
       "      <td>0.766667</td>\n",
       "      <td>0.700000</td>\n",
       "      <td>0.633333</td>\n",
       "      <td>0.666667</td>\n",
       "      <td>0.724138</td>\n",
       "      <td>0.678017</td>\n",
       "      <td>0.061288</td>\n",
       "      <td>57</td>\n",
       "    </tr>\n",
       "    <tr>\n",
       "      <th>79</th>\n",
       "      <td>0.023390</td>\n",
       "      <td>0.005419</td>\n",
       "      <td>0.009209</td>\n",
       "      <td>0.008292</td>\n",
       "      <td>9</td>\n",
       "      <td>8</td>\n",
       "      <td>{'svc__C': 9, 'svc__gamma': 8}</td>\n",
       "      <td>0.566667</td>\n",
       "      <td>0.766667</td>\n",
       "      <td>0.600000</td>\n",
       "      <td>0.766667</td>\n",
       "      <td>0.700000</td>\n",
       "      <td>0.600000</td>\n",
       "      <td>0.666667</td>\n",
       "      <td>0.689655</td>\n",
       "      <td>0.669540</td>\n",
       "      <td>0.071118</td>\n",
       "      <td>66</td>\n",
       "    </tr>\n",
       "    <tr>\n",
       "      <th>80</th>\n",
       "      <td>0.020600</td>\n",
       "      <td>0.003808</td>\n",
       "      <td>0.007434</td>\n",
       "      <td>0.003867</td>\n",
       "      <td>9</td>\n",
       "      <td>9</td>\n",
       "      <td>{'svc__C': 9, 'svc__gamma': 9}</td>\n",
       "      <td>0.566667</td>\n",
       "      <td>0.766667</td>\n",
       "      <td>0.600000</td>\n",
       "      <td>0.700000</td>\n",
       "      <td>0.700000</td>\n",
       "      <td>0.600000</td>\n",
       "      <td>0.633333</td>\n",
       "      <td>0.655172</td>\n",
       "      <td>0.652730</td>\n",
       "      <td>0.062049</td>\n",
       "      <td>75</td>\n",
       "    </tr>\n",
       "  </tbody>\n",
       "</table>\n",
       "<p>81 rows × 18 columns</p>\n",
       "</div>"
      ],
      "text/plain": [
       "    mean_fit_time  std_fit_time  mean_score_time  std_score_time param_svc__C  \\\n",
       "0        0.016411      0.002130         0.008141        0.004299            1   \n",
       "1        0.017976      0.001864         0.008084        0.002478            1   \n",
       "2        0.018637      0.001615         0.010983        0.007483            1   \n",
       "3        0.024575      0.008084         0.006758        0.001382            1   \n",
       "4        0.023787      0.010712         0.006425        0.001670            1   \n",
       "..            ...           ...              ...             ...          ...   \n",
       "76       0.019016      0.003949         0.007272        0.002981            9   \n",
       "77       0.023472      0.006340         0.006123        0.005251            9   \n",
       "78       0.023159      0.006252         0.006632        0.001788            9   \n",
       "79       0.023390      0.005419         0.009209        0.008292            9   \n",
       "80       0.020600      0.003808         0.007434        0.003867            9   \n",
       "\n",
       "   param_svc__gamma                          params  split0_test_score  \\\n",
       "0                 1  {'svc__C': 1, 'svc__gamma': 1}           0.633333   \n",
       "1                 2  {'svc__C': 1, 'svc__gamma': 2}           0.633333   \n",
       "2                 3  {'svc__C': 1, 'svc__gamma': 3}           0.600000   \n",
       "3                 4  {'svc__C': 1, 'svc__gamma': 4}           0.600000   \n",
       "4                 5  {'svc__C': 1, 'svc__gamma': 5}           0.600000   \n",
       "..              ...                             ...                ...   \n",
       "76                5  {'svc__C': 9, 'svc__gamma': 5}           0.566667   \n",
       "77                6  {'svc__C': 9, 'svc__gamma': 6}           0.566667   \n",
       "78                7  {'svc__C': 9, 'svc__gamma': 7}           0.566667   \n",
       "79                8  {'svc__C': 9, 'svc__gamma': 8}           0.566667   \n",
       "80                9  {'svc__C': 9, 'svc__gamma': 9}           0.566667   \n",
       "\n",
       "    split1_test_score  split2_test_score  split3_test_score  \\\n",
       "0            0.900000           0.800000           0.833333   \n",
       "1            0.833333           0.700000           0.833333   \n",
       "2            0.800000           0.633333           0.800000   \n",
       "3            0.733333           0.633333           0.766667   \n",
       "4            0.733333           0.633333           0.733333   \n",
       "..                ...                ...                ...   \n",
       "76           0.766667           0.666667           0.766667   \n",
       "77           0.733333           0.666667           0.800000   \n",
       "78           0.733333           0.633333           0.766667   \n",
       "79           0.766667           0.600000           0.766667   \n",
       "80           0.766667           0.600000           0.700000   \n",
       "\n",
       "    split4_test_score  split5_test_score  split6_test_score  \\\n",
       "0            0.766667           0.700000           0.733333   \n",
       "1            0.800000           0.766667           0.733333   \n",
       "2            0.766667           0.700000           0.666667   \n",
       "3            0.766667           0.700000           0.666667   \n",
       "4            0.766667           0.666667           0.666667   \n",
       "..                ...                ...                ...   \n",
       "76           0.666667           0.633333           0.700000   \n",
       "77           0.666667           0.633333           0.700000   \n",
       "78           0.700000           0.633333           0.666667   \n",
       "79           0.700000           0.600000           0.666667   \n",
       "80           0.700000           0.600000           0.633333   \n",
       "\n",
       "    split7_test_score  mean_test_score  std_test_score  rank_test_score  \n",
       "0            0.793103         0.769971        0.076875                7  \n",
       "1            0.793103         0.761638        0.065029               11  \n",
       "2            0.793103         0.719971        0.075397               20  \n",
       "3            0.793103         0.707471        0.064978               23  \n",
       "4            0.724138         0.690517        0.053848               32  \n",
       "..                ...              ...             ...              ...  \n",
       "76           0.758621         0.690661        0.067149               29  \n",
       "77           0.724138         0.686351        0.065810               40  \n",
       "78           0.724138         0.678017        0.061288               57  \n",
       "79           0.689655         0.669540        0.071118               66  \n",
       "80           0.655172         0.652730        0.062049               75  \n",
       "\n",
       "[81 rows x 18 columns]"
      ]
     },
     "execution_count": 98,
     "metadata": {},
     "output_type": "execute_result"
    }
   ],
   "source": [
    "svc_results"
   ]
  },
  {
   "cell_type": "code",
   "execution_count": 99,
   "metadata": {},
   "outputs": [
    {
     "data": {
      "text/plain": [
       "0.8034482758620689"
      ]
     },
     "execution_count": 99,
     "metadata": {},
     "output_type": "execute_result"
    }
   ],
   "source": [
    "svc_grid.best_score_"
   ]
  },
  {
   "cell_type": "code",
   "execution_count": 100,
   "metadata": {},
   "outputs": [
    {
     "data": {
      "text/plain": [
       "{'svc__C': 3, 'svc__gamma': 1}"
      ]
     },
     "execution_count": 100,
     "metadata": {},
     "output_type": "execute_result"
    }
   ],
   "source": [
    "svc_grid.best_params_"
   ]
  },
  {
   "cell_type": "code",
   "execution_count": 101,
   "metadata": {},
   "outputs": [],
   "source": [
    "svc_pred = svc_grid.predict(X_test)"
   ]
  },
  {
   "cell_type": "code",
   "execution_count": 102,
   "metadata": {},
   "outputs": [
    {
     "data": {
      "text/plain": [
       "0.8"
      ]
     },
     "execution_count": 102,
     "metadata": {},
     "output_type": "execute_result"
    }
   ],
   "source": [
    "svc_acc = accuracy_score(y_test, svc_pred)\n",
    "svc_acc"
   ]
  },
  {
   "cell_type": "code",
   "execution_count": 103,
   "metadata": {},
   "outputs": [
    {
     "data": {
      "text/plain": [
       "array([[39,  6],\n",
       "       [ 6,  9]], dtype=int64)"
      ]
     },
     "execution_count": 103,
     "metadata": {},
     "output_type": "execute_result"
    }
   ],
   "source": [
    "svc_conf = confusion_matrix(y_test, svc_pred)\n",
    "svc_conf"
   ]
  },
  {
   "cell_type": "code",
   "execution_count": 152,
   "metadata": {},
   "outputs": [],
   "source": [
    "svc_conf = pd.DataFrame(data = svc_conf, columns = [['Pred:No Failure', 'Pred: Failure']], index = [['Act: No Failure', 'Act: Failure']])"
   ]
  },
  {
   "cell_type": "code",
   "execution_count": 167,
   "metadata": {},
   "outputs": [
    {
     "data": {
      "text/plain": [
       "Text(0.5, 1.0, 'SVC Confusion Maxtrix')"
      ]
     },
     "execution_count": 167,
     "metadata": {},
     "output_type": "execute_result"
    },
    {
     "data": {
      "image/png": "[encoded data removed]",
      "text/plain": [
       "<Figure size 432x288 with 2 Axes>"
      ]
     },
     "metadata": {
      "needs_background": "light"
     },
     "output_type": "display_data"
    }
   ],
   "source": [
    "sns.heatmap(svc_conf, annot = True)\n",
    "plt.title(\"SVC Confusion Maxtrix\")"
   ]
  },
  {
   "cell_type": "code",
   "execution_count": 154,
   "metadata": {},
   "outputs": [
    {
     "data": {
      "text/plain": [
       "6"
      ]
     },
     "execution_count": 154,
     "metadata": {},
     "output_type": "execute_result"
    }
   ],
   "source": [
    "svc_fn = svc_conf.iloc[1,0]\n",
    "svc_fn"
   ]
  },
  {
   "cell_type": "code",
   "execution_count": 155,
   "metadata": {},
   "outputs": [
    {
     "data": {
      "text/plain": [
       "9"
      ]
     },
     "execution_count": 155,
     "metadata": {},
     "output_type": "execute_result"
    }
   ],
   "source": [
    "svc_tp = svc_conf.iloc[1,1]\n",
    "svc_tp"
   ]
  },
  {
   "cell_type": "code",
   "execution_count": 156,
   "metadata": {},
   "outputs": [
    {
     "data": {
      "text/plain": [
       "0.6"
      ]
     },
     "execution_count": 156,
     "metadata": {},
     "output_type": "execute_result"
    }
   ],
   "source": [
    "svc_prec = svc_tp/(svc_tp + svc_fn)\n",
    "svc_prec"
   ]
  },
  {
   "cell_type": "markdown",
   "metadata": {},
   "source": [
    "# Artificial Neural Network"
   ]
  },
  {
   "cell_type": "code",
   "execution_count": 108,
   "metadata": {},
   "outputs": [],
   "source": [
    "mlp = MLPClassifier()\n",
    "mlp_pipe = Pipeline([('scaler', scaler), ('mlp', mlp)])"
   ]
  },
  {
   "cell_type": "code",
   "execution_count": 110,
   "metadata": {},
   "outputs": [],
   "source": [
    "mlp_params = {'mlp__solver': ['sgd'],\n",
    "              'mlp__hidden_layer_sizes': [(10,10,10),(15,15,15),(20,20,20),(30,30,30),(40,40,40)],\n",
    "              'mlp__max_iter': [2000,6000,8000,10000]\n",
    "             }"
   ]
  },
  {
   "cell_type": "code",
   "execution_count": 111,
   "metadata": {},
   "outputs": [],
   "source": [
    "mlp_grid = GridSearchCV(mlp_pipe, param_grid = mlp_params, cv=8, scoring = \"accuracy\", n_jobs=-1)"
   ]
  },
  {
   "cell_type": "code",
   "execution_count": 112,
   "metadata": {},
   "outputs": [
    {
     "data": {
      "text/plain": [
       "GridSearchCV(cv=8,\n",
       "             estimator=Pipeline(steps=[('scaler', MinMaxScaler()),\n",
       "                                       ('mlp', MLPClassifier())]),\n",
       "             n_jobs=-1,\n",
       "             param_grid={'mlp__hidden_layer_sizes': [(10, 10, 10), (15, 15, 15),\n",
       "                                                     (20, 20, 20), (30, 30, 30),\n",
       "                                                     (40, 40, 40)],\n",
       "                         'mlp__max_iter': [2000, 6000, 8000, 10000],\n",
       "                         'mlp__solver': ['sgd']},\n",
       "             scoring='accuracy')"
      ]
     },
     "execution_count": 112,
     "metadata": {},
     "output_type": "execute_result"
    }
   ],
   "source": [
    "mlp_grid.fit(X_train, y_train)"
   ]
  },
  {
   "cell_type": "code",
   "execution_count": 113,
   "metadata": {},
   "outputs": [],
   "source": [
    "mlp_results = pd.DataFrame(mlp_grid.cv_results_)"
   ]
  },
  {
   "cell_type": "code",
   "execution_count": 114,
   "metadata": {},
   "outputs": [
    {
     "data": {
      "text/html": [
       "<div>\n",
       "<style scoped>\n",
       "    .dataframe tbody tr th:only-of-type {\n",
       "        vertical-align: middle;\n",
       "    }\n",
       "\n",
       "    .dataframe tbody tr th {\n",
       "        vertical-align: top;\n",
       "    }\n",
       "\n",
       "    .dataframe thead th {\n",
       "        text-align: right;\n",
       "    }\n",
       "</style>\n",
       "<table border=\"1\" class=\"dataframe\">\n",
       "  <thead>\n",
       "    <tr style=\"text-align: right;\">\n",
       "      <th></th>\n",
       "      <th>mean_fit_time</th>\n",
       "      <th>std_fit_time</th>\n",
       "      <th>mean_score_time</th>\n",
       "      <th>std_score_time</th>\n",
       "      <th>param_mlp__hidden_layer_sizes</th>\n",
       "      <th>param_mlp__max_iter</th>\n",
       "      <th>param_mlp__solver</th>\n",
       "      <th>params</th>\n",
       "      <th>split0_test_score</th>\n",
       "      <th>split1_test_score</th>\n",
       "      <th>split2_test_score</th>\n",
       "      <th>split3_test_score</th>\n",
       "      <th>split4_test_score</th>\n",
       "      <th>split5_test_score</th>\n",
       "      <th>split6_test_score</th>\n",
       "      <th>split7_test_score</th>\n",
       "      <th>mean_test_score</th>\n",
       "      <th>std_test_score</th>\n",
       "      <th>rank_test_score</th>\n",
       "    </tr>\n",
       "  </thead>\n",
       "  <tbody>\n",
       "    <tr>\n",
       "      <th>0</th>\n",
       "      <td>0.535470</td>\n",
       "      <td>0.275741</td>\n",
       "      <td>0.007810</td>\n",
       "      <td>0.001611</td>\n",
       "      <td>(10, 10, 10)</td>\n",
       "      <td>2000</td>\n",
       "      <td>sgd</td>\n",
       "      <td>{'mlp__hidden_layer_sizes': (10, 10, 10), 'mlp...</td>\n",
       "      <td>0.633333</td>\n",
       "      <td>0.666667</td>\n",
       "      <td>0.666667</td>\n",
       "      <td>0.666667</td>\n",
       "      <td>0.666667</td>\n",
       "      <td>0.666667</td>\n",
       "      <td>0.666667</td>\n",
       "      <td>0.655172</td>\n",
       "      <td>0.661063</td>\n",
       "      <td>0.011136</td>\n",
       "      <td>20</td>\n",
       "    </tr>\n",
       "    <tr>\n",
       "      <th>1</th>\n",
       "      <td>0.945511</td>\n",
       "      <td>1.373988</td>\n",
       "      <td>0.007726</td>\n",
       "      <td>0.002399</td>\n",
       "      <td>(10, 10, 10)</td>\n",
       "      <td>6000</td>\n",
       "      <td>sgd</td>\n",
       "      <td>{'mlp__hidden_layer_sizes': (10, 10, 10), 'mlp...</td>\n",
       "      <td>0.633333</td>\n",
       "      <td>0.666667</td>\n",
       "      <td>0.666667</td>\n",
       "      <td>0.833333</td>\n",
       "      <td>0.666667</td>\n",
       "      <td>0.666667</td>\n",
       "      <td>0.666667</td>\n",
       "      <td>0.689655</td>\n",
       "      <td>0.686207</td>\n",
       "      <td>0.057405</td>\n",
       "      <td>18</td>\n",
       "    </tr>\n",
       "    <tr>\n",
       "      <th>2</th>\n",
       "      <td>1.202930</td>\n",
       "      <td>1.251821</td>\n",
       "      <td>0.007020</td>\n",
       "      <td>0.001972</td>\n",
       "      <td>(10, 10, 10)</td>\n",
       "      <td>8000</td>\n",
       "      <td>sgd</td>\n",
       "      <td>{'mlp__hidden_layer_sizes': (10, 10, 10), 'mlp...</td>\n",
       "      <td>0.666667</td>\n",
       "      <td>0.666667</td>\n",
       "      <td>0.666667</td>\n",
       "      <td>0.666667</td>\n",
       "      <td>0.666667</td>\n",
       "      <td>0.666667</td>\n",
       "      <td>0.766667</td>\n",
       "      <td>0.655172</td>\n",
       "      <td>0.677730</td>\n",
       "      <td>0.033825</td>\n",
       "      <td>19</td>\n",
       "    </tr>\n",
       "    <tr>\n",
       "      <th>3</th>\n",
       "      <td>1.822175</td>\n",
       "      <td>1.449037</td>\n",
       "      <td>0.006512</td>\n",
       "      <td>0.001959</td>\n",
       "      <td>(10, 10, 10)</td>\n",
       "      <td>10000</td>\n",
       "      <td>sgd</td>\n",
       "      <td>{'mlp__hidden_layer_sizes': (10, 10, 10), 'mlp...</td>\n",
       "      <td>0.633333</td>\n",
       "      <td>0.866667</td>\n",
       "      <td>0.666667</td>\n",
       "      <td>0.666667</td>\n",
       "      <td>0.800000</td>\n",
       "      <td>0.666667</td>\n",
       "      <td>0.766667</td>\n",
       "      <td>0.689655</td>\n",
       "      <td>0.719540</td>\n",
       "      <td>0.076691</td>\n",
       "      <td>15</td>\n",
       "    </tr>\n",
       "    <tr>\n",
       "      <th>4</th>\n",
       "      <td>2.495062</td>\n",
       "      <td>1.411233</td>\n",
       "      <td>0.005175</td>\n",
       "      <td>0.001295</td>\n",
       "      <td>(15, 15, 15)</td>\n",
       "      <td>2000</td>\n",
       "      <td>sgd</td>\n",
       "      <td>{'mlp__hidden_layer_sizes': (15, 15, 15), 'mlp...</td>\n",
       "      <td>0.666667</td>\n",
       "      <td>0.866667</td>\n",
       "      <td>0.666667</td>\n",
       "      <td>0.766667</td>\n",
       "      <td>0.866667</td>\n",
       "      <td>0.666667</td>\n",
       "      <td>0.700000</td>\n",
       "      <td>0.655172</td>\n",
       "      <td>0.731897</td>\n",
       "      <td>0.084560</td>\n",
       "      <td>14</td>\n",
       "    </tr>\n",
       "    <tr>\n",
       "      <th>5</th>\n",
       "      <td>1.954430</td>\n",
       "      <td>1.879643</td>\n",
       "      <td>0.007318</td>\n",
       "      <td>0.002321</td>\n",
       "      <td>(15, 15, 15)</td>\n",
       "      <td>6000</td>\n",
       "      <td>sgd</td>\n",
       "      <td>{'mlp__hidden_layer_sizes': (15, 15, 15), 'mlp...</td>\n",
       "      <td>0.800000</td>\n",
       "      <td>0.666667</td>\n",
       "      <td>0.833333</td>\n",
       "      <td>0.666667</td>\n",
       "      <td>0.666667</td>\n",
       "      <td>0.666667</td>\n",
       "      <td>0.733333</td>\n",
       "      <td>0.655172</td>\n",
       "      <td>0.711063</td>\n",
       "      <td>0.065540</td>\n",
       "      <td>16</td>\n",
       "    </tr>\n",
       "    <tr>\n",
       "      <th>6</th>\n",
       "      <td>1.669998</td>\n",
       "      <td>1.557525</td>\n",
       "      <td>0.008542</td>\n",
       "      <td>0.006608</td>\n",
       "      <td>(15, 15, 15)</td>\n",
       "      <td>8000</td>\n",
       "      <td>sgd</td>\n",
       "      <td>{'mlp__hidden_layer_sizes': (15, 15, 15), 'mlp...</td>\n",
       "      <td>0.633333</td>\n",
       "      <td>0.966667</td>\n",
       "      <td>0.666667</td>\n",
       "      <td>0.666667</td>\n",
       "      <td>0.833333</td>\n",
       "      <td>0.666667</td>\n",
       "      <td>0.666667</td>\n",
       "      <td>0.827586</td>\n",
       "      <td>0.740948</td>\n",
       "      <td>0.112162</td>\n",
       "      <td>9</td>\n",
       "    </tr>\n",
       "    <tr>\n",
       "      <th>7</th>\n",
       "      <td>1.486497</td>\n",
       "      <td>1.391312</td>\n",
       "      <td>0.006707</td>\n",
       "      <td>0.001863</td>\n",
       "      <td>(15, 15, 15)</td>\n",
       "      <td>10000</td>\n",
       "      <td>sgd</td>\n",
       "      <td>{'mlp__hidden_layer_sizes': (15, 15, 15), 'mlp...</td>\n",
       "      <td>0.633333</td>\n",
       "      <td>0.666667</td>\n",
       "      <td>0.866667</td>\n",
       "      <td>0.666667</td>\n",
       "      <td>0.666667</td>\n",
       "      <td>0.666667</td>\n",
       "      <td>0.766667</td>\n",
       "      <td>0.655172</td>\n",
       "      <td>0.698563</td>\n",
       "      <td>0.073403</td>\n",
       "      <td>17</td>\n",
       "    </tr>\n",
       "    <tr>\n",
       "      <th>8</th>\n",
       "      <td>2.660497</td>\n",
       "      <td>1.545063</td>\n",
       "      <td>0.007669</td>\n",
       "      <td>0.001946</td>\n",
       "      <td>(20, 20, 20)</td>\n",
       "      <td>2000</td>\n",
       "      <td>sgd</td>\n",
       "      <td>{'mlp__hidden_layer_sizes': (20, 20, 20), 'mlp...</td>\n",
       "      <td>0.633333</td>\n",
       "      <td>0.666667</td>\n",
       "      <td>0.900000</td>\n",
       "      <td>0.833333</td>\n",
       "      <td>0.833333</td>\n",
       "      <td>0.766667</td>\n",
       "      <td>0.666667</td>\n",
       "      <td>0.758621</td>\n",
       "      <td>0.757328</td>\n",
       "      <td>0.089311</td>\n",
       "      <td>8</td>\n",
       "    </tr>\n",
       "    <tr>\n",
       "      <th>9</th>\n",
       "      <td>3.559714</td>\n",
       "      <td>1.192686</td>\n",
       "      <td>0.006318</td>\n",
       "      <td>0.002217</td>\n",
       "      <td>(20, 20, 20)</td>\n",
       "      <td>6000</td>\n",
       "      <td>sgd</td>\n",
       "      <td>{'mlp__hidden_layer_sizes': (20, 20, 20), 'mlp...</td>\n",
       "      <td>0.666667</td>\n",
       "      <td>0.666667</td>\n",
       "      <td>0.866667</td>\n",
       "      <td>0.833333</td>\n",
       "      <td>0.866667</td>\n",
       "      <td>0.733333</td>\n",
       "      <td>0.700000</td>\n",
       "      <td>0.827586</td>\n",
       "      <td>0.770115</td>\n",
       "      <td>0.081866</td>\n",
       "      <td>5</td>\n",
       "    </tr>\n",
       "    <tr>\n",
       "      <th>10</th>\n",
       "      <td>3.129885</td>\n",
       "      <td>1.586228</td>\n",
       "      <td>0.007191</td>\n",
       "      <td>0.001817</td>\n",
       "      <td>(20, 20, 20)</td>\n",
       "      <td>8000</td>\n",
       "      <td>sgd</td>\n",
       "      <td>{'mlp__hidden_layer_sizes': (20, 20, 20), 'mlp...</td>\n",
       "      <td>0.633333</td>\n",
       "      <td>0.666667</td>\n",
       "      <td>0.800000</td>\n",
       "      <td>0.666667</td>\n",
       "      <td>0.833333</td>\n",
       "      <td>0.700000</td>\n",
       "      <td>0.733333</td>\n",
       "      <td>0.827586</td>\n",
       "      <td>0.732615</td>\n",
       "      <td>0.073590</td>\n",
       "      <td>12</td>\n",
       "    </tr>\n",
       "    <tr>\n",
       "      <th>11</th>\n",
       "      <td>3.076430</td>\n",
       "      <td>2.057565</td>\n",
       "      <td>0.008301</td>\n",
       "      <td>0.001376</td>\n",
       "      <td>(20, 20, 20)</td>\n",
       "      <td>10000</td>\n",
       "      <td>sgd</td>\n",
       "      <td>{'mlp__hidden_layer_sizes': (20, 20, 20), 'mlp...</td>\n",
       "      <td>0.633333</td>\n",
       "      <td>0.866667</td>\n",
       "      <td>0.866667</td>\n",
       "      <td>0.800000</td>\n",
       "      <td>0.833333</td>\n",
       "      <td>0.666667</td>\n",
       "      <td>0.666667</td>\n",
       "      <td>0.793103</td>\n",
       "      <td>0.765805</td>\n",
       "      <td>0.089461</td>\n",
       "      <td>6</td>\n",
       "    </tr>\n",
       "    <tr>\n",
       "      <th>12</th>\n",
       "      <td>3.438344</td>\n",
       "      <td>1.691188</td>\n",
       "      <td>0.007704</td>\n",
       "      <td>0.001535</td>\n",
       "      <td>(30, 30, 30)</td>\n",
       "      <td>2000</td>\n",
       "      <td>sgd</td>\n",
       "      <td>{'mlp__hidden_layer_sizes': (30, 30, 30), 'mlp...</td>\n",
       "      <td>0.633333</td>\n",
       "      <td>0.866667</td>\n",
       "      <td>0.666667</td>\n",
       "      <td>0.666667</td>\n",
       "      <td>0.800000</td>\n",
       "      <td>0.766667</td>\n",
       "      <td>0.766667</td>\n",
       "      <td>0.758621</td>\n",
       "      <td>0.740661</td>\n",
       "      <td>0.073776</td>\n",
       "      <td>10</td>\n",
       "    </tr>\n",
       "    <tr>\n",
       "      <th>13</th>\n",
       "      <td>3.286337</td>\n",
       "      <td>1.763031</td>\n",
       "      <td>0.007915</td>\n",
       "      <td>0.000679</td>\n",
       "      <td>(30, 30, 30)</td>\n",
       "      <td>6000</td>\n",
       "      <td>sgd</td>\n",
       "      <td>{'mlp__hidden_layer_sizes': (30, 30, 30), 'mlp...</td>\n",
       "      <td>0.633333</td>\n",
       "      <td>0.866667</td>\n",
       "      <td>0.666667</td>\n",
       "      <td>0.866667</td>\n",
       "      <td>0.900000</td>\n",
       "      <td>0.800000</td>\n",
       "      <td>0.766667</td>\n",
       "      <td>0.724138</td>\n",
       "      <td>0.778017</td>\n",
       "      <td>0.091818</td>\n",
       "      <td>4</td>\n",
       "    </tr>\n",
       "    <tr>\n",
       "      <th>14</th>\n",
       "      <td>3.760419</td>\n",
       "      <td>1.289018</td>\n",
       "      <td>0.007726</td>\n",
       "      <td>0.002633</td>\n",
       "      <td>(30, 30, 30)</td>\n",
       "      <td>8000</td>\n",
       "      <td>sgd</td>\n",
       "      <td>{'mlp__hidden_layer_sizes': (30, 30, 30), 'mlp...</td>\n",
       "      <td>0.633333</td>\n",
       "      <td>0.900000</td>\n",
       "      <td>0.866667</td>\n",
       "      <td>0.866667</td>\n",
       "      <td>0.833333</td>\n",
       "      <td>0.800000</td>\n",
       "      <td>0.733333</td>\n",
       "      <td>0.758621</td>\n",
       "      <td>0.798994</td>\n",
       "      <td>0.082102</td>\n",
       "      <td>2</td>\n",
       "    </tr>\n",
       "    <tr>\n",
       "      <th>15</th>\n",
       "      <td>3.742910</td>\n",
       "      <td>1.910951</td>\n",
       "      <td>0.007905</td>\n",
       "      <td>0.001197</td>\n",
       "      <td>(30, 30, 30)</td>\n",
       "      <td>10000</td>\n",
       "      <td>sgd</td>\n",
       "      <td>{'mlp__hidden_layer_sizes': (30, 30, 30), 'mlp...</td>\n",
       "      <td>0.566667</td>\n",
       "      <td>0.833333</td>\n",
       "      <td>0.666667</td>\n",
       "      <td>0.666667</td>\n",
       "      <td>0.833333</td>\n",
       "      <td>0.800000</td>\n",
       "      <td>0.766667</td>\n",
       "      <td>0.724138</td>\n",
       "      <td>0.732184</td>\n",
       "      <td>0.088244</td>\n",
       "      <td>13</td>\n",
       "    </tr>\n",
       "    <tr>\n",
       "      <th>16</th>\n",
       "      <td>5.455894</td>\n",
       "      <td>0.533608</td>\n",
       "      <td>0.006697</td>\n",
       "      <td>0.003681</td>\n",
       "      <td>(40, 40, 40)</td>\n",
       "      <td>2000</td>\n",
       "      <td>sgd</td>\n",
       "      <td>{'mlp__hidden_layer_sizes': (40, 40, 40), 'mlp...</td>\n",
       "      <td>0.700000</td>\n",
       "      <td>0.900000</td>\n",
       "      <td>0.866667</td>\n",
       "      <td>0.833333</td>\n",
       "      <td>0.866667</td>\n",
       "      <td>0.800000</td>\n",
       "      <td>0.733333</td>\n",
       "      <td>0.862069</td>\n",
       "      <td>0.820259</td>\n",
       "      <td>0.066157</td>\n",
       "      <td>1</td>\n",
       "    </tr>\n",
       "    <tr>\n",
       "      <th>17</th>\n",
       "      <td>3.871072</td>\n",
       "      <td>1.833226</td>\n",
       "      <td>0.006590</td>\n",
       "      <td>0.002036</td>\n",
       "      <td>(40, 40, 40)</td>\n",
       "      <td>6000</td>\n",
       "      <td>sgd</td>\n",
       "      <td>{'mlp__hidden_layer_sizes': (40, 40, 40), 'mlp...</td>\n",
       "      <td>0.700000</td>\n",
       "      <td>0.666667</td>\n",
       "      <td>0.666667</td>\n",
       "      <td>0.833333</td>\n",
       "      <td>0.866667</td>\n",
       "      <td>0.733333</td>\n",
       "      <td>0.700000</td>\n",
       "      <td>0.724138</td>\n",
       "      <td>0.736351</td>\n",
       "      <td>0.069732</td>\n",
       "      <td>11</td>\n",
       "    </tr>\n",
       "    <tr>\n",
       "      <th>18</th>\n",
       "      <td>4.832070</td>\n",
       "      <td>1.659194</td>\n",
       "      <td>0.008066</td>\n",
       "      <td>0.001197</td>\n",
       "      <td>(40, 40, 40)</td>\n",
       "      <td>8000</td>\n",
       "      <td>sgd</td>\n",
       "      <td>{'mlp__hidden_layer_sizes': (40, 40, 40), 'mlp...</td>\n",
       "      <td>0.666667</td>\n",
       "      <td>0.866667</td>\n",
       "      <td>0.833333</td>\n",
       "      <td>0.666667</td>\n",
       "      <td>0.800000</td>\n",
       "      <td>0.766667</td>\n",
       "      <td>0.766667</td>\n",
       "      <td>0.724138</td>\n",
       "      <td>0.761351</td>\n",
       "      <td>0.068134</td>\n",
       "      <td>7</td>\n",
       "    </tr>\n",
       "    <tr>\n",
       "      <th>19</th>\n",
       "      <td>4.933456</td>\n",
       "      <td>0.943809</td>\n",
       "      <td>0.006411</td>\n",
       "      <td>0.001804</td>\n",
       "      <td>(40, 40, 40)</td>\n",
       "      <td>10000</td>\n",
       "      <td>sgd</td>\n",
       "      <td>{'mlp__hidden_layer_sizes': (40, 40, 40), 'mlp...</td>\n",
       "      <td>0.666667</td>\n",
       "      <td>0.800000</td>\n",
       "      <td>0.833333</td>\n",
       "      <td>0.833333</td>\n",
       "      <td>0.833333</td>\n",
       "      <td>0.766667</td>\n",
       "      <td>0.733333</td>\n",
       "      <td>0.827586</td>\n",
       "      <td>0.786782</td>\n",
       "      <td>0.057041</td>\n",
       "      <td>3</td>\n",
       "    </tr>\n",
       "  </tbody>\n",
       "</table>\n",
       "</div>"
      ],
      "text/plain": [
       "    mean_fit_time  std_fit_time  mean_score_time  std_score_time  \\\n",
       "0        0.535470      0.275741         0.007810        0.001611   \n",
       "1        0.945511      1.373988         0.007726        0.002399   \n",
       "2        1.202930      1.251821         0.007020        0.001972   \n",
       "3        1.822175      1.449037         0.006512        0.001959   \n",
       "4        2.495062      1.411233         0.005175        0.001295   \n",
       "5        1.954430      1.879643         0.007318        0.002321   \n",
       "6        1.669998      1.557525         0.008542        0.006608   \n",
       "7        1.486497      1.391312         0.006707        0.001863   \n",
       "8        2.660497      1.545063         0.007669        0.001946   \n",
       "9        3.559714      1.192686         0.006318        0.002217   \n",
       "10       3.129885      1.586228         0.007191        0.001817   \n",
       "11       3.076430      2.057565         0.008301        0.001376   \n",
       "12       3.438344      1.691188         0.007704        0.001535   \n",
       "13       3.286337      1.763031         0.007915        0.000679   \n",
       "14       3.760419      1.289018         0.007726        0.002633   \n",
       "15       3.742910      1.910951         0.007905        0.001197   \n",
       "16       5.455894      0.533608         0.006697        0.003681   \n",
       "17       3.871072      1.833226         0.006590        0.002036   \n",
       "18       4.832070      1.659194         0.008066        0.001197   \n",
       "19       4.933456      0.943809         0.006411        0.001804   \n",
       "\n",
       "   param_mlp__hidden_layer_sizes param_mlp__max_iter param_mlp__solver  \\\n",
       "0                   (10, 10, 10)                2000               sgd   \n",
       "1                   (10, 10, 10)                6000               sgd   \n",
       "2                   (10, 10, 10)                8000               sgd   \n",
       "3                   (10, 10, 10)               10000               sgd   \n",
       "4                   (15, 15, 15)                2000               sgd   \n",
       "5                   (15, 15, 15)                6000               sgd   \n",
       "6                   (15, 15, 15)                8000               sgd   \n",
       "7                   (15, 15, 15)               10000               sgd   \n",
       "8                   (20, 20, 20)                2000               sgd   \n",
       "9                   (20, 20, 20)                6000               sgd   \n",
       "10                  (20, 20, 20)                8000               sgd   \n",
       "11                  (20, 20, 20)               10000               sgd   \n",
       "12                  (30, 30, 30)                2000               sgd   \n",
       "13                  (30, 30, 30)                6000               sgd   \n",
       "14                  (30, 30, 30)                8000               sgd   \n",
       "15                  (30, 30, 30)               10000               sgd   \n",
       "16                  (40, 40, 40)                2000               sgd   \n",
       "17                  (40, 40, 40)                6000               sgd   \n",
       "18                  (40, 40, 40)                8000               sgd   \n",
       "19                  (40, 40, 40)               10000               sgd   \n",
       "\n",
       "                                               params  split0_test_score  \\\n",
       "0   {'mlp__hidden_layer_sizes': (10, 10, 10), 'mlp...           0.633333   \n",
       "1   {'mlp__hidden_layer_sizes': (10, 10, 10), 'mlp...           0.633333   \n",
       "2   {'mlp__hidden_layer_sizes': (10, 10, 10), 'mlp...           0.666667   \n",
       "3   {'mlp__hidden_layer_sizes': (10, 10, 10), 'mlp...           0.633333   \n",
       "4   {'mlp__hidden_layer_sizes': (15, 15, 15), 'mlp...           0.666667   \n",
       "5   {'mlp__hidden_layer_sizes': (15, 15, 15), 'mlp...           0.800000   \n",
       "6   {'mlp__hidden_layer_sizes': (15, 15, 15), 'mlp...           0.633333   \n",
       "7   {'mlp__hidden_layer_sizes': (15, 15, 15), 'mlp...           0.633333   \n",
       "8   {'mlp__hidden_layer_sizes': (20, 20, 20), 'mlp...           0.633333   \n",
       "9   {'mlp__hidden_layer_sizes': (20, 20, 20), 'mlp...           0.666667   \n",
       "10  {'mlp__hidden_layer_sizes': (20, 20, 20), 'mlp...           0.633333   \n",
       "11  {'mlp__hidden_layer_sizes': (20, 20, 20), 'mlp...           0.633333   \n",
       "12  {'mlp__hidden_layer_sizes': (30, 30, 30), 'mlp...           0.633333   \n",
       "13  {'mlp__hidden_layer_sizes': (30, 30, 30), 'mlp...           0.633333   \n",
       "14  {'mlp__hidden_layer_sizes': (30, 30, 30), 'mlp...           0.633333   \n",
       "15  {'mlp__hidden_layer_sizes': (30, 30, 30), 'mlp...           0.566667   \n",
       "16  {'mlp__hidden_layer_sizes': (40, 40, 40), 'mlp...           0.700000   \n",
       "17  {'mlp__hidden_layer_sizes': (40, 40, 40), 'mlp...           0.700000   \n",
       "18  {'mlp__hidden_layer_sizes': (40, 40, 40), 'mlp...           0.666667   \n",
       "19  {'mlp__hidden_layer_sizes': (40, 40, 40), 'mlp...           0.666667   \n",
       "\n",
       "    split1_test_score  split2_test_score  split3_test_score  \\\n",
       "0            0.666667           0.666667           0.666667   \n",
       "1            0.666667           0.666667           0.833333   \n",
       "2            0.666667           0.666667           0.666667   \n",
       "3            0.866667           0.666667           0.666667   \n",
       "4            0.866667           0.666667           0.766667   \n",
       "5            0.666667           0.833333           0.666667   \n",
       "6            0.966667           0.666667           0.666667   \n",
       "7            0.666667           0.866667           0.666667   \n",
       "8            0.666667           0.900000           0.833333   \n",
       "9            0.666667           0.866667           0.833333   \n",
       "10           0.666667           0.800000           0.666667   \n",
       "11           0.866667           0.866667           0.800000   \n",
       "12           0.866667           0.666667           0.666667   \n",
       "13           0.866667           0.666667           0.866667   \n",
       "14           0.900000           0.866667           0.866667   \n",
       "15           0.833333           0.666667           0.666667   \n",
       "16           0.900000           0.866667           0.833333   \n",
       "17           0.666667           0.666667           0.833333   \n",
       "18           0.866667           0.833333           0.666667   \n",
       "19           0.800000           0.833333           0.833333   \n",
       "\n",
       "    split4_test_score  split5_test_score  split6_test_score  \\\n",
       "0            0.666667           0.666667           0.666667   \n",
       "1            0.666667           0.666667           0.666667   \n",
       "2            0.666667           0.666667           0.766667   \n",
       "3            0.800000           0.666667           0.766667   \n",
       "4            0.866667           0.666667           0.700000   \n",
       "5            0.666667           0.666667           0.733333   \n",
       "6            0.833333           0.666667           0.666667   \n",
       "7            0.666667           0.666667           0.766667   \n",
       "8            0.833333           0.766667           0.666667   \n",
       "9            0.866667           0.733333           0.700000   \n",
       "10           0.833333           0.700000           0.733333   \n",
       "11           0.833333           0.666667           0.666667   \n",
       "12           0.800000           0.766667           0.766667   \n",
       "13           0.900000           0.800000           0.766667   \n",
       "14           0.833333           0.800000           0.733333   \n",
       "15           0.833333           0.800000           0.766667   \n",
       "16           0.866667           0.800000           0.733333   \n",
       "17           0.866667           0.733333           0.700000   \n",
       "18           0.800000           0.766667           0.766667   \n",
       "19           0.833333           0.766667           0.733333   \n",
       "\n",
       "    split7_test_score  mean_test_score  std_test_score  rank_test_score  \n",
       "0            0.655172         0.661063        0.011136               20  \n",
       "1            0.689655         0.686207        0.057405               18  \n",
       "2            0.655172         0.677730        0.033825               19  \n",
       "3            0.689655         0.719540        0.076691               15  \n",
       "4            0.655172         0.731897        0.084560               14  \n",
       "5            0.655172         0.711063        0.065540               16  \n",
       "6            0.827586         0.740948        0.112162                9  \n",
       "7            0.655172         0.698563        0.073403               17  \n",
       "8            0.758621         0.757328        0.089311                8  \n",
       "9            0.827586         0.770115        0.081866                5  \n",
       "10           0.827586         0.732615        0.073590               12  \n",
       "11           0.793103         0.765805        0.089461                6  \n",
       "12           0.758621         0.740661        0.073776               10  \n",
       "13           0.724138         0.778017        0.091818                4  \n",
       "14           0.758621         0.798994        0.082102                2  \n",
       "15           0.724138         0.732184        0.088244               13  \n",
       "16           0.862069         0.820259        0.066157                1  \n",
       "17           0.724138         0.736351        0.069732               11  \n",
       "18           0.724138         0.761351        0.068134                7  \n",
       "19           0.827586         0.786782        0.057041                3  "
      ]
     },
     "execution_count": 114,
     "metadata": {},
     "output_type": "execute_result"
    }
   ],
   "source": [
    "mlp_results"
   ]
  },
  {
   "cell_type": "code",
   "execution_count": 115,
   "metadata": {},
   "outputs": [
    {
     "data": {
      "text/plain": [
       "0.8202586206896552"
      ]
     },
     "execution_count": 115,
     "metadata": {},
     "output_type": "execute_result"
    }
   ],
   "source": [
    "mlp_grid.best_score_"
   ]
  },
  {
   "cell_type": "code",
   "execution_count": 116,
   "metadata": {},
   "outputs": [
    {
     "data": {
      "text/plain": [
       "{'mlp__hidden_layer_sizes': (40, 40, 40),\n",
       " 'mlp__max_iter': 2000,\n",
       " 'mlp__solver': 'sgd'}"
      ]
     },
     "execution_count": 116,
     "metadata": {},
     "output_type": "execute_result"
    }
   ],
   "source": [
    "mlp_grid.best_params_"
   ]
  },
  {
   "cell_type": "code",
   "execution_count": 117,
   "metadata": {},
   "outputs": [],
   "source": [
    "mlp_pred = mlp_grid.predict(X_test)"
   ]
  },
  {
   "cell_type": "code",
   "execution_count": 118,
   "metadata": {},
   "outputs": [
    {
     "data": {
      "text/plain": [
       "0.85"
      ]
     },
     "execution_count": 118,
     "metadata": {},
     "output_type": "execute_result"
    }
   ],
   "source": [
    "mlp_acc = accuracy_score(y_test, mlp_pred)\n",
    "mlp_acc"
   ]
  },
  {
   "cell_type": "code",
   "execution_count": 119,
   "metadata": {},
   "outputs": [
    {
     "data": {
      "text/plain": [
       "array([[40,  5],\n",
       "       [ 4, 11]], dtype=int64)"
      ]
     },
     "execution_count": 119,
     "metadata": {},
     "output_type": "execute_result"
    }
   ],
   "source": [
    "mlp_conf = confusion_matrix(y_test, mlp_pred)\n",
    "mlp_conf"
   ]
  },
  {
   "cell_type": "code",
   "execution_count": 120,
   "metadata": {},
   "outputs": [],
   "source": [
    "mlp_conf = pd.DataFrame(data = mlp_conf, columns = [['Pred:No Failure', 'Pred: Failure']], index = [['Act: No Failure', 'Act: Failure']])"
   ]
  },
  {
   "cell_type": "code",
   "execution_count": 168,
   "metadata": {},
   "outputs": [
    {
     "data": {
      "text/plain": [
       "Text(0.5, 1.0, 'MLP Confusion Matrix')"
      ]
     },
     "execution_count": 168,
     "metadata": {},
     "output_type": "execute_result"
    },
    {
     "data": {
      "image/png": "[encoded data removed]",
      "text/plain": [
       "<Figure size 432x288 with 2 Axes>"
      ]
     },
     "metadata": {
      "needs_background": "light"
     },
     "output_type": "display_data"
    }
   ],
   "source": [
    "sns.heatmap(mlp_conf, annot = True)\n",
    "plt.title(\"MLP Confusion Matrix\")"
   ]
  },
  {
   "cell_type": "code",
   "execution_count": 157,
   "metadata": {},
   "outputs": [
    {
     "data": {
      "text/plain": [
       "4"
      ]
     },
     "execution_count": 157,
     "metadata": {},
     "output_type": "execute_result"
    }
   ],
   "source": [
    "mlp_fn = mlp_conf.iloc[1,0]\n",
    "mlp_fn"
   ]
  },
  {
   "cell_type": "code",
   "execution_count": 159,
   "metadata": {},
   "outputs": [
    {
     "data": {
      "text/plain": [
       "11"
      ]
     },
     "execution_count": 159,
     "metadata": {},
     "output_type": "execute_result"
    }
   ],
   "source": [
    "mlp_tp = mlp_conf.iloc[1,1]\n",
    "mlp_tp"
   ]
  },
  {
   "cell_type": "code",
   "execution_count": 160,
   "metadata": {},
   "outputs": [
    {
     "data": {
      "text/plain": [
       "0.7333333333333333"
      ]
     },
     "execution_count": 160,
     "metadata": {},
     "output_type": "execute_result"
    }
   ],
   "source": [
    "mlp_prec = mlp_tp/(mlp_tp + mlp_fn)\n",
    "mlp_prec"
   ]
  },
  {
   "cell_type": "code",
   "execution_count": 162,
   "metadata": {},
   "outputs": [],
   "source": [
    "results = pd.DataFrame({'Model': ['Random Forest',\n",
    "                                  'Support Vector Machine',\n",
    "                                  'Artifical Neural Network'],\n",
    "                        'Accuracy': [rf_acc,\n",
    "                                     svc_acc,\n",
    "                                     mlp_acc],\n",
    "                        'Precision': [rf_prec,\n",
    "                                    svc_prec,\n",
    "                                    mlp_prec]\n",
    "                       })"
   ]
  },
  {
   "cell_type": "code",
   "execution_count": 163,
   "metadata": {},
   "outputs": [],
   "source": [
    "results = results.set_index(\"Model\")"
   ]
  },
  {
   "cell_type": "code",
   "execution_count": 164,
   "metadata": {},
   "outputs": [],
   "source": [
    "results = results.sort_values(by=\"Precision\", ascending = False)"
   ]
  },
  {
   "cell_type": "code",
   "execution_count": 165,
   "metadata": {},
   "outputs": [
    {
     "data": {
      "image/png": "[encoded data removed]",
      "text/plain": [
       "<Figure size 504x360 with 1 Axes>"
      ]
     },
     "metadata": {
      "needs_background": "light"
     },
     "output_type": "display_data"
    }
   ],
   "source": [
    "ax = results.plot(kind = 'bar', title = \"Model Results\", figsize = (7,5), legend = True, fontsize = 12)"
   ]
  }
 ],
 "metadata": {
  "kernelspec": {
   "display_name": "Python 3",
   "language": "python",
   "name": "python3"
  },
  "language_info": {
   "codemirror_mode": {
    "name": "ipython",
    "version": 3
   },
   "file_extension": ".py",
   "mimetype": "text/x-python",
   "name": "python",
   "nbconvert_exporter": "python",
   "pygments_lexer": "ipython3",
   "version": "3.7.1"
  }
 },
 "nbformat": 4,
 "nbformat_minor": 2
}
